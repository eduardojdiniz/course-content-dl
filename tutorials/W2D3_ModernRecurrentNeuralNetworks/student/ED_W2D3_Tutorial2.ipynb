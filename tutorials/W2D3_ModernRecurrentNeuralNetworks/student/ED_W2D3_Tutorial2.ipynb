{
 "cells": [
  {
   "cell_type": "markdown",
   "metadata": {
    "colab_type": "text",
    "execution": {},
    "id": "view-in-github"
   },
   "source": [
    "<a href=\"https://colab.research.google.com/github/NeuromatchAcademy/course-content-dl/blob/main/tutorials/W2D3_ModernRecurrentNeuralNetworks/student/W2D3_Tutorial2.ipynb\" target=\"_parent\"><img src=\"https://colab.research.google.com/assets/colab-badge.svg\" alt=\"Open In Colab\"/></a> &nbsp; <a href=\"https://kaggle.com/kernels/welcome?src=https://raw.githubusercontent.com/NeuromatchAcademy/course-content-dl/main/tutorials/W2D3_ModernRecurrentNeuralNetworks/student/W2D3_Tutorial2.ipynb\" target=\"_parent\"><img src=\"https://kaggle.com/static/images/open-in-kaggle.svg\" alt=\"Open in Kaggle\"/></a>"
   ]
  },
  {
   "cell_type": "markdown",
   "metadata": {
    "execution": {}
   },
   "source": [
    "# Tutorial 2: Modern RNNs and their variants\n",
    "\n",
    "**Week 2, Day 3: Modern RNNs**\n",
    "\n",
    "**By Neuromatch Academy**\n",
    "\n",
    "__Content creators:__ Bhargav Srinivasa Desikan, Anis Zahedifard, James Evans\n",
    "\n",
    "__Content reviewers:__ Lily Cheng, Melvin Selim Atay, Ezekiel Williams, Kelson Shilling-Scrivo\n",
    "\n",
    "__Content editors:__ Gagana B, Spiros Chavlis\n",
    "\n",
    "__Production editors:__ Roberto Guidotti, Spiros Chavlis"
   ]
  },
  {
   "cell_type": "markdown",
   "metadata": {
    "execution": {}
   },
   "source": [
    "**Our 2021 Sponsors, including Presenting Sponsor Facebook Reality Labs**\n",
    "\n",
    "<p align='center'><img src='https://github.com/NeuromatchAcademy/widgets/blob/master/sponsors.png?raw=True'/></p>"
   ]
  },
  {
   "cell_type": "markdown",
   "metadata": {
    "execution": {}
   },
   "source": [
    "---\n",
    "# Tutorial objectives\n",
    "\n",
    "In this tutorial you will learn about:\n",
    "1. Modern Recurrent Neural Networks and their use\n",
    "2. Long Short-Term Memory (LSTM), Gated Recurrent Unit (GRU) and the memory cell\n",
    "3. Sequence to Sequence and Encoder-Decoder Networks\n",
    "4. Models of attention for text classification"
   ]
  },
  {
   "cell_type": "code",
   "execution_count": null,
   "metadata": {
    "cellView": "form",
    "execution": {}
   },
   "outputs": [],
   "source": [
    "# @title Tutorial slides\n",
    "\n",
    "# @markdown These are the slides for the videos in this tutorials\n",
    "\n",
    "# @markdown If you want to locally download the slides, click [here](https://osf.io/n23hy/download)\n",
    "from IPython.display import IFrame\n",
    "IFrame(src=f\"https://mfr.ca-1.osf.io/render?url=https://osf.io/n23hy/?direct%26mode=render%26action=download%26mode=render\", width=854, height=480)"
   ]
  },
  {
   "cell_type": "markdown",
   "metadata": {
    "execution": {}
   },
   "source": [
    "---\n",
    "# Setup\n",
    "\n",
    "We will use the IMDB dataset, which consists of a set of 25,000 highly polar movie reviews for training, and 25,000 for testing. We will use torchtext to download the dataset and prepare it for training, validation and testing. Our goal is to build a model that performs binary classification between positive and negative movie reviews.\n",
    "\n",
    "We use `fix_length` argument to pad sentences of length less than `sentence_length` or truncate sentences of length greater than `sentence_length`. "
   ]
  },
  {
   "cell_type": "code",
   "execution_count": 1,
   "metadata": {
    "cellView": "form",
    "tags": []
   },
   "outputs": [],
   "source": [
    "# @title Install dependecies\n",
    "\n",
    "# @markdown There may be `Errors`/`Warnings` reported during the installation. However, they are to be ignored.\n",
    "!pip install --upgrade gensim --quiet\n",
    "!pip install torchtext==0.4.0 --quiet\n",
    "!pip install unidecode --quiet\n",
    "!pip install d2l --quiet\n",
    "!pip install nltk --quiet\n",
    "\n",
    "!pip install git+https://github.com/NeuromatchAcademy/evaltools --quiet\n",
    "from evaltools.airtable import AirtableForm\n",
    "\n",
    "atform = AirtableForm('appn7VdPRseSoMXEG','W2D3_T2','https://portal.neuromatchacademy.org/api/redirect/to/3412a777-eb0e-4312-9254-eec266f0bee4')"
   ]
  },
  {
   "cell_type": "code",
   "execution_count": 2,
   "metadata": {
    "tags": []
   },
   "outputs": [],
   "source": [
    "# Imports\n",
    "import math\n",
    "import time\n",
    "import nltk\n",
    "import random\n",
    "import collections\n",
    "\n",
    "import numpy as np\n",
    "import matplotlib.pyplot as plt\n",
    "\n",
    "import torch\n",
    "import torch.nn as nn\n",
    "from torch.nn import functional as F\n",
    "\n",
    "from torchtext import data, datasets\n",
    "\n",
    "from d2l import torch as d2l"
   ]
  },
  {
   "cell_type": "code",
   "execution_count": 3,
   "metadata": {
    "cellView": "form",
    "tags": []
   },
   "outputs": [],
   "source": [
    "# @title Figure Settings\n",
    "import ipywidgets as widgets\n",
    "%config InlineBackend.figure_format = 'retina'\n",
    "plt.style.use(\"https://raw.githubusercontent.com/NeuromatchAcademy/content-creation/main/nma.mplstyle\")"
   ]
  },
  {
   "cell_type": "code",
   "execution_count": 4,
   "metadata": {
    "cellView": "form",
    "tags": []
   },
   "outputs": [
    {
     "name": "stderr",
     "output_type": "stream",
     "text": [
      "[nltk_data] Downloading package punkt to\n",
      "[nltk_data]     /home/dinize@acct.upmchs.net/nltk_data...\n",
      "[nltk_data]   Package punkt is already up-to-date!\n",
      "[nltk_data] Downloading package averaged_perceptron_tagger to\n",
      "[nltk_data]     /home/dinize@acct.upmchs.net/nltk_data...\n",
      "[nltk_data]   Package averaged_perceptron_tagger is already up-to-\n",
      "[nltk_data]       date!\n",
      "[nltk_data] Downloading package brown to\n",
      "[nltk_data]     /home/dinize@acct.upmchs.net/nltk_data...\n",
      "[nltk_data]   Package brown is already up-to-date!\n",
      "[nltk_data] Downloading package webtext to\n",
      "[nltk_data]     /home/dinize@acct.upmchs.net/nltk_data...\n",
      "[nltk_data]   Package webtext is already up-to-date!\n"
     ]
    },
    {
     "data": {
      "text/plain": [
       "True"
      ]
     },
     "execution_count": 4,
     "metadata": {},
     "output_type": "execute_result"
    }
   ],
   "source": [
    "# @title Download the dataset\n",
    "nltk.download('punkt')\n",
    "nltk.download('averaged_perceptron_tagger')\n",
    "nltk.download('brown')\n",
    "nltk.download('webtext')"
   ]
  },
  {
   "cell_type": "code",
   "execution_count": 5,
   "metadata": {
    "cellView": "form",
    "tags": []
   },
   "outputs": [],
   "source": [
    "# @title Helper functions\n",
    "\n",
    "def plot_train_val(x, train, val, train_label,\n",
    "                   val_label, title, y_label,\n",
    "                   color):\n",
    "\n",
    "  plt.plot(x, train, label=train_label, color=color)\n",
    "  plt.plot(x, val, label=val_label, color=color, linestyle='--')\n",
    "  plt.legend(loc='lower right')\n",
    "  plt.xlabel('epoch')\n",
    "  plt.ylabel(y_label)\n",
    "  plt.title(title)\n",
    "\n",
    "\n",
    "def count_parameters(model):\n",
    "  parameters = sum(p.numel() for p in model.parameters() if p.requires_grad)\n",
    "  return parameters\n",
    "\n",
    "\n",
    "def init_weights(m):\n",
    "  if type(m) in (nn.Linear, nn.Conv1d):\n",
    "    nn.init.xavier_uniform_(m.weight)\n",
    "\n",
    "\n",
    "#  Dataset Loader\n",
    "def load_dataset(sentence_length=50, batch_size=32, seed=522):\n",
    "\n",
    "  TEXT = data.Field(sequential=True,\n",
    "                    tokenize=nltk.word_tokenize,\n",
    "                    lower=True,\n",
    "                    include_lengths=True,\n",
    "                    batch_first=True,\n",
    "                    fix_length=sentence_length)\n",
    "  LABEL = data.LabelField(dtype=torch.float)\n",
    "\n",
    "  train_data, test_data = datasets.IMDB.splits(TEXT, LABEL)\n",
    "\n",
    "  # If no specific vector embeddings are specified,\n",
    "  # Torchtext initializes random vector embeddings\n",
    "  # which would get updated during training through backpropagation.\n",
    "  TEXT.build_vocab(train_data)\n",
    "  LABEL.build_vocab(train_data)\n",
    "\n",
    "  train_data, valid_data = train_data.split(split_ratio=0.7,\n",
    "                                            random_state=random.seed(seed))\n",
    "  train_iter, valid_iter, test_iter = data.BucketIterator.splits((train_data, valid_data, test_data),\n",
    "                                                                  batch_size=batch_size, sort_key=lambda x: len(x.text),\n",
    "                                                                  repeat=False, shuffle=True)\n",
    "  vocab_size = len(TEXT.vocab)\n",
    "\n",
    "  print(f\"Data loading is completed. Sentence length: {sentence_length}, \"\n",
    "        f\"Batch size: {batch_size}, and seed: {seed}\")\n",
    "\n",
    "  return TEXT, vocab_size, train_iter, valid_iter, test_iter\n",
    "\n",
    "\n",
    "def text_from_dict(arr, dictionary):\n",
    "  text = []\n",
    "  for element in arr:\n",
    "    text.append(dictionary[element])\n",
    "  return text\n",
    "\n",
    "\n",
    "def view_data(TEXT, train_iter):\n",
    "  for idx, batch in enumerate(train_iter):\n",
    "    text = batch.text[0]\n",
    "    target = batch.label\n",
    "\n",
    "    for itr in range(25, 30):\n",
    "      print('Review: ', ' '.join(text_from_dict(text[itr], TEXT.vocab.itos)))\n",
    "      print('Label: ', int(target[itr].item()), '\\n')\n",
    "\n",
    "    print('[0: Negative Review, 1: Positive Review]')\n",
    "    if idx==0:\n",
    "      break\n",
    "\n",
    "\n",
    "# Training function\n",
    "def train(model, device, train_iter, valid_iter, epochs, learning_rate):\n",
    "  criterion = nn.CrossEntropyLoss()\n",
    "  optimizer = torch.optim.Adam(model.parameters(), lr=learning_rate)\n",
    "\n",
    "  train_loss, validation_loss = [], []\n",
    "  train_acc, validation_acc = [], []\n",
    "\n",
    "  for epoch in range(epochs):\n",
    "    #train\n",
    "    model.train()\n",
    "    running_loss = 0.\n",
    "    correct, total = 0, 0\n",
    "    steps = 0\n",
    "\n",
    "    for idx, batch in enumerate(train_iter):\n",
    "      text = batch.text[0]\n",
    "      # print(type(text), text.shape)\n",
    "      target = batch.label\n",
    "      target = torch.autograd.Variable(target).long()\n",
    "      text, target = text.to(device), target.to(device)\n",
    "\n",
    "      # add micro for coding training loop\n",
    "      optimizer.zero_grad()\n",
    "      output = model(text)\n",
    "\n",
    "      loss = criterion(output, target)\n",
    "      loss.backward()\n",
    "      optimizer.step()\n",
    "      steps += 1\n",
    "      running_loss += loss.item()\n",
    "\n",
    "      # get accuracy\n",
    "      _, predicted = torch.max(output, 1)\n",
    "      total += target.size(0)\n",
    "      correct += (predicted == target).sum().item()\n",
    "\n",
    "    train_loss.append(running_loss/len(train_iter))\n",
    "    train_acc.append(correct/total)\n",
    "\n",
    "    print(f'Epoch: {epoch + 1}, '\n",
    "          f'Training Loss: {running_loss/len(train_iter):.4f}, '\n",
    "          f'Training Accuracy: {100*correct/total: .2f}%')\n",
    "\n",
    "    # evaluate on validation data\n",
    "    model.eval()\n",
    "    running_loss = 0.\n",
    "    correct, total = 0, 0\n",
    "\n",
    "    with torch.no_grad():\n",
    "      for idx, batch in enumerate(valid_iter):\n",
    "        text = batch.text[0]\n",
    "        target = batch.label\n",
    "        target = torch.autograd.Variable(target).long()\n",
    "        text, target = text.to(device), target.to(device)\n",
    "\n",
    "        optimizer.zero_grad()\n",
    "        output = model(text)\n",
    "\n",
    "        loss = criterion(output, target)\n",
    "        running_loss += loss.item()\n",
    "\n",
    "        # get accuracy\n",
    "        _, predicted = torch.max(output, 1)\n",
    "        total += target.size(0)\n",
    "        correct += (predicted == target).sum().item()\n",
    "\n",
    "    validation_loss.append(running_loss/len(valid_iter))\n",
    "    validation_acc.append(correct/total)\n",
    "\n",
    "    print (f'Validation Loss: {running_loss/len(valid_iter):.4f}, '\n",
    "           f'Validation Accuracy: {100*correct/total: .2f}%')\n",
    "\n",
    "  return train_loss, train_acc, validation_loss, validation_acc\n",
    "\n",
    "\n",
    "# Testing function\n",
    "def test(model, device, test_iter):\n",
    "  model.eval()\n",
    "  correct = 0\n",
    "  total = 0\n",
    "  with torch.no_grad():\n",
    "    for idx, batch in enumerate(test_iter):\n",
    "      text = batch.text[0]\n",
    "      target = batch.label\n",
    "      target = torch.autograd.Variable(target).long()\n",
    "      text, target = text.to(device), target.to(device)\n",
    "\n",
    "      outputs = model(text)\n",
    "      _, predicted = torch.max(outputs, 1)\n",
    "      total += target.size(0)\n",
    "      correct += (predicted == target).sum().item()\n",
    "\n",
    "    acc = 100 * correct / total\n",
    "    return acc"
   ]
  },
  {
   "cell_type": "code",
   "execution_count": 6,
   "metadata": {
    "cellView": "form",
    "tags": []
   },
   "outputs": [],
   "source": [
    "# @title Set random seed\n",
    "\n",
    "# @markdown Executing `set_seed(seed=seed)` you are setting the seed\n",
    "\n",
    "# for DL its critical to set the random seed so that students can have a\n",
    "# baseline to compare their results to expected results.\n",
    "# Read more here: https://pytorch.org/docs/stable/notes/randomness.html\n",
    "\n",
    "# Call `set_seed` function in the exercises to ensure reproducibility.\n",
    "import random\n",
    "\n",
    "def set_seed(seed=None, seed_torch=True):\n",
    "  if seed is None:\n",
    "    seed = np.random.choice(2 ** 32)\n",
    "  random.seed(seed)\n",
    "  np.random.seed(seed)\n",
    "  if seed_torch:\n",
    "    torch.manual_seed(seed)\n",
    "    torch.cuda.manual_seed_all(seed)\n",
    "    torch.cuda.manual_seed(seed)\n",
    "    torch.backends.cudnn.benchmark = False\n",
    "    torch.backends.cudnn.deterministic = True\n",
    "\n",
    "  print(f'Random seed {seed} has been set.')\n",
    "\n",
    "# In case that `DataLoader` is used\n",
    "def seed_worker(worker_id):\n",
    "  worker_seed = torch.initial_seed() % 2**32\n",
    "  np.random.seed(worker_seed)\n",
    "  random.seed(worker_seed)"
   ]
  },
  {
   "cell_type": "code",
   "execution_count": 7,
   "metadata": {
    "cellView": "form",
    "tags": []
   },
   "outputs": [],
   "source": [
    "# @title Set device (GPU or CPU). Execute `set_device()`\n",
    "# inform the user if the notebook uses GPU or CPU.\n",
    "\n",
    "def set_device():\n",
    "  device = \"cuda\" if torch.cuda.is_available() else \"cpu\"\n",
    "  if device != \"cuda\":\n",
    "    print(\"WARNING: For this notebook to perform best, \"\n",
    "        \"if possible, in the menu under `Runtime` -> \"\n",
    "        \"`Change runtime type.`  select `GPU` \")\n",
    "  else:\n",
    "    print(\"GPU is enabled in this notebook.\")\n",
    "\n",
    "  return device"
   ]
  },
  {
   "cell_type": "code",
   "execution_count": 8,
   "metadata": {
    "tags": []
   },
   "outputs": [
    {
     "name": "stdout",
     "output_type": "stream",
     "text": [
      "GPU is enabled in this notebook.\n",
      "Random seed 2021 has been set.\n"
     ]
    }
   ],
   "source": [
    "DEVICE = set_device()\n",
    "SEED = 2021\n",
    "set_seed(seed=SEED)"
   ]
  },
  {
   "cell_type": "markdown",
   "metadata": {
    "execution": {}
   },
   "source": [
    "---\n",
    "# Section 1: Recurrent Neural Networks (RNNs)\n",
    "\n",
    "*Time estimate: ~27mins*"
   ]
  },
  {
   "cell_type": "code",
   "execution_count": 9,
   "metadata": {
    "cellView": "form",
    "tags": []
   },
   "outputs": [
    {
     "data": {
      "application/vnd.jupyter.widget-view+json": {
       "model_id": "3a10a44c505a48aa9064a0d1d6142d1f",
       "version_major": 2,
       "version_minor": 0
      },
      "text/plain": [
       "Tab(children=(Output(), Output()), _titles={'0': 'Youtube', '1': 'Bilibili'})"
      ]
     },
     "metadata": {},
     "output_type": "display_data"
    }
   ],
   "source": [
    "# @title Video 1: Recurrent Neural Networks\n",
    "from ipywidgets import widgets\n",
    "\n",
    "out2 = widgets.Output()\n",
    "with out2:\n",
    "  from IPython.display import IFrame\n",
    "  class BiliVideo(IFrame):\n",
    "    def __init__(self, id, page=1, width=400, height=300, **kwargs):\n",
    "      self.id=id\n",
    "      src = \"https://player.bilibili.com/player.html?bvid={0}&page={1}\".format(id, page)\n",
    "      super(BiliVideo, self).__init__(src, width, height, **kwargs)\n",
    "\n",
    "  video = BiliVideo(id=f\"BV1Ng41177az\", width=854, height=480, fs=1)\n",
    "  print(\"Video available at https://www.bilibili.com/video/{0}\".format(video.id))\n",
    "  display(video)\n",
    "\n",
    "out1 = widgets.Output()\n",
    "with out1:\n",
    "  from IPython.display import YouTubeVideo\n",
    "  video = YouTubeVideo(id=f\"hIHocwdyY7M\", width=854, height=480, fs=1, rel=0)\n",
    "  print(\"Video available at https://youtube.com/watch?v=\" + video.id)\n",
    "  display(video)\n",
    "\n",
    "out = widgets.Tab([out1, out2])\n",
    "out.set_title(0, 'Youtube')\n",
    "out.set_title(1, 'Bilibili')\n",
    "\n",
    "# add event to airtable\n",
    "atform.add_event('Video 1: Recurrent Neural Networks')\n",
    "\n",
    "display(out)"
   ]
  },
  {
   "cell_type": "markdown",
   "metadata": {
    "execution": {}
   },
   "source": [
    "Recurrent neural networks, or RNNs , are a family of neural networks for processing sequential data. Just as a convolutional network is specialized for processing a grid of values X such as an image, a recurrent neural network is specialized for processing a sequence of values. RNNs prove useful in many scenarios where other deep learning models are not effective.\n",
    "\n",
    "* Not all problems can be converted into one with fixed length inputs and outputs.\n",
    "\n",
    "\n",
    "* The deep learning models we have seen so far pick samples randomly. This might not be the best strategy for a task of understanding meaning from a piece of text. Words in a text occur in a sequence and therefore cannot be permuted randomly to get the meaning."
   ]
  },
  {
   "cell_type": "markdown",
   "metadata": {
    "execution": {}
   },
   "source": [
    "The following provides more data than the video (but can be skipped for now). For more detail, see the sources, the [deep learning book](https://www.deeplearningbook.org/contents/rnn.html), and [d2l.ai](https://d2l.ai/chapter_recurrent-neural-networks/rnn.html)\n",
    "\n",
    "When the recurrent network is trained to perform a task that requires predicting the future from the past, the network typically learns to use a hidden state at time step $t$, $H_t$ as a kind of lossy summary of the task-relevant aspects of the past sequence of inputs up to $t$. This summary is in general necessarily lossy, since it maps an arbitrary length sequence $(X_t, X_{t-1}, X_{t-2}, . . . , X_{2}, X_{1})$ to a ﬁxed length vector $H_t$.\n",
    "\n",
    "We can represent the unfolded recurrence after $t$ steps with a function $G_t$:\n",
    "\n",
    "\\begin{align}\n",
    "H_t &= G_t(X_t, X_{t-1}, X_{t-2}, \\dots, X_{2}, X_{1}) \\\\\n",
    "&= f(H_{t−1}, X_{t}; \\theta)\n",
    "\\end{align}\n",
    "\n",
    "where $\\theta$ denotes the model parameters, i.e., weights and biases.\n",
    "\n",
    "<figure>\n",
    "  <img width=700 src=\"https://raw.githubusercontent.com/NeuromatchAcademy/course-content-dl/main/tutorials/W2D3_ModernRecurrentNeuralNetworks/static/rnn-2.gif\">\n",
    "  <figcaption>\n",
    "  Source <a href=\"https://blog.floydhub.com/\">blog.floydhub.com</a>\n",
    "  </figcaption>\n",
    "</figure>\n",
    "\n",
    "The function $g_t$ takes the whole past sequence $(X_t, X_{t-1}, X_{t-2}, . . . , X_{2}, X_{1})$ as input and produces the current state, but the unfolded recurrent structure allows us to factorize $g_t$ into repeated application of a function f. The unfolding process thus introduces two major advantages:\n",
    "\n",
    "* Regardless of the sequence length, the learned model always has the same input size, because it is speciﬁed in terms of transition from one state to another state, rather than speciﬁed in terms of a variable-length history of states.\n",
    "\n",
    "* It is possible to use the same transition function $f$ with the same parameters at every time step.\n",
    "\n",
    "\n",
    "We will now formally write down the equations of a recurrent unit.\n",
    "\n",
    "\n",
    "Assume that we have a minibatch of inputs $X_t \\in R^{nxd}$ at time step $t$ . In other words, for a minibatch of $n$ sequence examples, each row of $X_t$  corresponds to one example at time step $t$ from the sequence. Next, we denote by $H_t \\in R^{nxh}$ the hidden variable of time step $t$. Unlike the MLP, here we save the hidden variable $H_{t-1}$ from the previous time step and introduce a new weight parameter $W_{hh} \\in R^{hxh}$ to describe how to use the hidden variable of the previous time step in the current time step. Specifically, the calculation of the hidden variable of the current time step is determined by the input of the current time step together with the hidden variable of the previous time step:\n",
    "\n",
    "\\begin{equation}\n",
    "H_t = \\phi(X_t W_{xh} + H_{t-1}W_{hh} + b_h)\n",
    "\\end{equation}\n",
    "\n",
    "For time step $t$, the output of the output layer is similar to the computation in the MLP:\n",
    "\n",
    "\\begin{equation}\n",
    "O_t = H_t W_{hq} + b_q\n",
    "\\end{equation}\n",
    " \n",
    "Parameters of the RNN include the weights $W_{xh} \\in R^{d \\times h}, W_{hh} \\in R^{h \\times h}$ , and the bias $b_h \\in R^{1 \\times h}$ of the hidden layer, together with the weights $W_{hq} \\in R^{h \\times  q}$ and the bias $b_q \\in R^{1 \\times q}$ of the output layer. It is worth mentioning that even at different time steps, RNNs always use these model parameters. Therefore, the parameterization cost of an RNN does not grow as the number of time steps increases.\n",
    "\n",
    "<figure>\n",
    "  <img width=700 align=\"center\" src=\"https://raw.githubusercontent.com/NeuromatchAcademy/course-content-dl/main/tutorials/W2D3_ModernRecurrentNeuralNetworks/static/rnn.svg\">\n",
    "  <figcaption>\n",
    "  Source <a href=\"https://d2l.ai/\">d2l.ai</a>\n",
    "  </figcaption>\n",
    "</figure>"
   ]
  },
  {
   "cell_type": "markdown",
   "metadata": {
    "execution": {}
   },
   "source": [
    "## Section 1.1: Load and View of the dataset\n",
    "\n",
    "Let us first load the dataset using the helper function `load_data`, which takes three arguments; the `sentence_length`, `batch_size`, and the `seed`. The default values are 50, 32, and 522, respectively. Execute the cell below to load the data."
   ]
  },
  {
   "cell_type": "code",
   "execution_count": 10,
   "metadata": {
    "cellView": "form",
    "tags": []
   },
   "outputs": [
    {
     "name": "stdout",
     "output_type": "stream",
     "text": [
      "Data loading is completed. Sentence length: 50, Batch size: 32, and seed: 2021\n"
     ]
    }
   ],
   "source": [
    "# @markdown Dataset Loading with default params\n",
    "TEXT, vocab_size, train_iter, valid_iter, test_iter = load_dataset(seed=SEED)"
   ]
  },
  {
   "cell_type": "markdown",
   "metadata": {
    "execution": {}
   },
   "source": [
    "Now, let's view the data!"
   ]
  },
  {
   "cell_type": "code",
   "execution_count": 11,
   "metadata": {
    "cellView": "form",
    "tags": []
   },
   "outputs": [
    {
     "name": "stdout",
     "output_type": "stream",
     "text": [
      "Review:  my 2 year old likes the doodlebops show , it seems to keep his attention for awhile . the characters are interesting , vibrant with primary colours and all . there 's not much educational content that the intended target audience could benefit from , but they do seem to\n",
      "Label:  1 \n",
      "\n",
      "Review:  released just before the production code crackdown in july , 1934 , mitch leisen 's all-star paramount musical is leeringly suggestive -some even claim misogynistic- and highly entertaining . two murders occur on the opening night of `` earl carroll 's vanities '' ( one on-stage ! ) , but\n",
      "Label:  1 \n",
      "\n",
      "Review:  this film caught me off guard when it started out in a cafe located in arizona and a richard grieco , ( rex ) , '' dead easy '' , '04 , decides to have something to eat and gets all hot and bothered over a very hot , sexy\n",
      "Label:  1 \n",
      "\n",
      "Review:  billy crystal normally brings the crowd to laughter , but in this movie he and all the rest of them can not bring any smile on my face .... or perhaps just one . they call it comedy , i say it 's a waste of my time . <pad>\n",
      "Label:  0 \n",
      "\n",
      "Review:  birthday girl does n't know what it wants to be - is it a comedy , , is it a drama ... it just does n't know . what could have been a very funny or touching film ends up in no-man 's land . the premise is original enough\n",
      "Label:  0 \n",
      "\n",
      "[0: Negative Review, 1: Positive Review]\n"
     ]
    }
   ],
   "source": [
    "# @markdown Visualize dataset\n",
    "view_data(TEXT, train_iter)"
   ]
  },
  {
   "cell_type": "markdown",
   "metadata": {
    "execution": {}
   },
   "source": [
    "### Coding Exercise 1.1: Vanilla RNN\n",
    "\n",
    "Now it's your turn to write a Vanilla RNN using PyTorch.\n",
    "\n",
    "* Once again we will use `nn.Embedding`. You are given the `vocab_size` which is the size of the dictionary of embeddings, and the `embed_size` which is the size of each embedding vector.  \n",
    "\n",
    "* Add 2 [RNN](https://pytorch.org/docs/stable/generated/torch.nn.RNN.html) layers. This would mean stacking two RNNs together to form a stacked RNN, with the second RNN taking in outputs of the first RNN and computing the final results.\n",
    "\n",
    "* Determine the size of inputs and outputs to the fully-connected layer."
   ]
  },
  {
   "cell_type": "code",
   "execution_count": 14,
   "metadata": {
    "tags": []
   },
   "outputs": [
    {
     "name": "stdout",
     "output_type": "stream",
     "text": [
      "VanillaRNN(\n",
      "  (embeddings): Embedding(1000, 300)\n",
      "  (rnn): RNN(300, 50, num_layers=2)\n",
      "  (fc): Linear(in_features=100, out_features=10, bias=True)\n",
      ")\n"
     ]
    }
   ],
   "source": [
    "class VanillaRNN(nn.Module):\n",
    "  def __init__(self, layers, output_size, hidden_size, vocab_size, embed_size,\n",
    "               device):\n",
    "    super(VanillaRNN, self).__init__()\n",
    "    self.n_layers= layers\n",
    "    self.hidden_size = hidden_size\n",
    "    self.device = device\n",
    "    ####################################################################\n",
    "    # Fill in missing code below (...),\n",
    "    # then remove or comment the line below to test your function\n",
    "    #raise NotImplementedError(\"Define the Vanilla RNN components\")\n",
    "    ####################################################################\n",
    "    # Define the embedding\n",
    "    self.embeddings = nn.Embedding(vocab_size, embed_size)\n",
    "    # Define the RNN layer\n",
    "    self.rnn = nn.RNN(embed_size, hidden_size, num_layers=layers)\n",
    "    # Define the fully connected layer\n",
    "    self.fc = nn.Linear(layers * hidden_size, output_size)\n",
    "\n",
    "  def forward(self, inputs):\n",
    "    input = self.embeddings(inputs)\n",
    "    input = input.permute(1, 0, 2)\n",
    "    h_0 = torch.zeros(2, input.size()[1], self.hidden_size).to(self.device)\n",
    "    output, h_n = self.rnn(input, h_0)\n",
    "    h_n = h_n.permute(1, 0, 2)\n",
    "    h_n = h_n.contiguous().reshape(h_n.size()[0], h_n.size()[1]*h_n.size()[2])\n",
    "    logits = self.fc(h_n)\n",
    "\n",
    "    return logits\n",
    "\n",
    "\n",
    "# add event to airtable\n",
    "atform.add_event('Coding Exercise 1.1: Vanilla RNN')\n",
    "\n",
    "## Uncomment to test VanillaRNN class\n",
    "sampleRNN = VanillaRNN(2, 10, 50, 1000, 300, DEVICE)\n",
    "print(sampleRNN)"
   ]
  },
  {
   "cell_type": "markdown",
   "metadata": {
    "colab_type": "text",
    "execution": {}
   },
   "source": [
    "[*Click for solution*](https://github.com/NeuromatchAcademy/course-content-dl/tree/main//tutorials/W2D3_ModernRecurrentNeuralNetworks/solutions/W2D3_Tutorial2_Solution_ae4fdee1.py)\n",
    "\n"
   ]
  },
  {
   "cell_type": "markdown",
   "metadata": {
    "execution": {}
   },
   "source": [
    "```\n",
    "VanillaRNN(\n",
    "  (embeddings): Embedding(1000, 300)\n",
    "  (rnn): RNN(300, 50, num_layers=2)\n",
    "  (fc): Linear(in_features=100, out_features=10, bias=True)\n",
    ")\n",
    "```"
   ]
  },
  {
   "cell_type": "markdown",
   "metadata": {
    "execution": {}
   },
   "source": [
    "## Section 1.2: Train and test the network"
   ]
  },
  {
   "cell_type": "code",
   "execution_count": 15,
   "metadata": {
    "tags": []
   },
   "outputs": [
    {
     "name": "stdout",
     "output_type": "stream",
     "text": [
      "Random seed 2021 has been set.\n",
      "Epoch: 1, Training Loss: 0.6985, Training Accuracy:  50.85%\n",
      "Validation Loss: 0.6961, Validation Accuracy:  50.69%\n",
      "Epoch: 2, Training Loss: 0.6885, Training Accuracy:  53.86%\n",
      "Validation Loss: 0.6936, Validation Accuracy:  51.61%\n",
      "Epoch: 3, Training Loss: 0.6716, Training Accuracy:  59.09%\n",
      "Validation Loss: 0.6762, Validation Accuracy:  57.56%\n",
      "Epoch: 4, Training Loss: 0.6411, Training Accuracy:  63.74%\n",
      "Validation Loss: 0.6558, Validation Accuracy:  62.41%\n",
      "Epoch: 5, Training Loss: 0.6127, Training Accuracy:  66.81%\n",
      "Validation Loss: 0.6491, Validation Accuracy:  64.00%\n",
      "Epoch: 6, Training Loss: 0.5818, Training Accuracy:  70.26%\n",
      "Validation Loss: 0.6381, Validation Accuracy:  64.89%\n",
      "Epoch: 7, Training Loss: 0.5477, Training Accuracy:  72.97%\n",
      "Validation Loss: 0.6265, Validation Accuracy:  66.47%\n",
      "Epoch: 8, Training Loss: 0.5134, Training Accuracy:  75.49%\n",
      "Validation Loss: 0.6193, Validation Accuracy:  67.81%\n",
      "Epoch: 9, Training Loss: 0.4773, Training Accuracy:  78.21%\n",
      "Validation Loss: 0.6194, Validation Accuracy:  68.57%\n",
      "Epoch: 10, Training Loss: 0.4438, Training Accuracy:  80.50%\n",
      "Validation Loss: 0.6242, Validation Accuracy:  68.75%\n",
      "--- Time taken to train = 33.40858840942383 seconds ---\n",
      "Test Accuracy: 68.34 with len=50\n",
      "\n",
      "Number of parameters = 11186002\n"
     ]
    },
    {
     "data": {
      "image/png": "[encoded data removed]",
      "text/plain": [
       "<Figure size 576x432 with 2 Axes>"
      ]
     },
     "metadata": {
      "image/png": {
       "height": 414,
       "width": 558
      },
      "needs_background": "light"
     },
     "output_type": "display_data"
    }
   ],
   "source": [
    "# Model hyperparamters\n",
    "learning_rate = 0.0002\n",
    "layers = 2\n",
    "output_size = 2\n",
    "hidden_size = 50  # 100\n",
    "embedding_length = 100\n",
    "epochs = 10\n",
    "\n",
    "\n",
    "# Initialize model, training and testing\n",
    "set_seed(SEED)\n",
    "vanilla_rnn_model = VanillaRNN(layers, output_size, hidden_size, vocab_size,\n",
    "                               embedding_length, DEVICE)\n",
    "vanilla_rnn_model.to(DEVICE)\n",
    "vanilla_rnn_start_time = time.time()\n",
    "vanilla_train_loss, vanilla_train_acc, vanilla_validation_loss, vanilla_validation_acc = train(vanilla_rnn_model,\n",
    "                                                                                               DEVICE,\n",
    "                                                                                               train_iter,\n",
    "                                                                                               valid_iter,\n",
    "                                                                                               epochs,\n",
    "                                                                                               learning_rate)\n",
    "print(\"--- Time taken to train = %s seconds ---\" % (time.time() - vanilla_rnn_start_time))\n",
    "test_accuracy = test(vanilla_rnn_model, DEVICE, test_iter)\n",
    "print(f'Test Accuracy: {test_accuracy} with len=50\\n')\n",
    "\n",
    "# Number of model parameters\n",
    "print(f'Number of parameters = {count_parameters(vanilla_rnn_model)}')\n",
    "\n",
    "\n",
    "# Plot accuracy curves\n",
    "plt.figure()\n",
    "plt.subplot(211)\n",
    "plot_train_val(np.arange(0, epochs), vanilla_train_acc, vanilla_validation_acc,\n",
    "               'train accuracy', 'val accuracy',\n",
    "               'Vanilla RNN on IMDB text classification', 'accuracy',\n",
    "               color='C0')\n",
    "plt.legend(loc='upper left')\n",
    "plt.subplot(212)\n",
    "plot_train_val(np.arange(0, epochs), vanilla_train_loss,\n",
    "               vanilla_validation_loss,\n",
    "               'train loss', 'val loss',\n",
    "               'Vanilla RNN on IMDB text classification',\n",
    "               'loss [a.u.]',\n",
    "               color='C0')\n",
    "plt.legend(loc='upper left')\n",
    "plt.show()"
   ]
  },
  {
   "cell_type": "markdown",
   "metadata": {
    "execution": {}
   },
   "source": [
    "### Change the input length\n",
    "\n",
    "Now let's increase the `sentence_length` to see how RNN performs when long reviews are allowed..\n"
   ]
  },
  {
   "cell_type": "code",
   "execution_count": 16,
   "metadata": {
    "cellView": "form",
    "tags": []
   },
   "outputs": [
    {
     "name": "stdout",
     "output_type": "stream",
     "text": [
      "Data loading is completed. Sentence length: 200, Batch size: 32, and seed: 522\n"
     ]
    }
   ],
   "source": [
    "# @markdown Load dataset with `sentence_length=200`\n",
    "TEXT_long, vocab_size_long, train_iter_long, valid_iter_long, test_iter_long = load_dataset(sentence_length=200)"
   ]
  },
  {
   "cell_type": "markdown",
   "metadata": {
    "execution": {}
   },
   "source": [
    "### Re-run the network"
   ]
  },
  {
   "cell_type": "code",
   "execution_count": 17,
   "metadata": {
    "tags": []
   },
   "outputs": [
    {
     "name": "stdout",
     "output_type": "stream",
     "text": [
      "Random seed 2021 has been set.\n",
      "Epoch: 1, Training Loss: 0.6996, Training Accuracy:  49.21%\n",
      "Validation Loss: 0.6948, Validation Accuracy:  50.16%\n",
      "Epoch: 2, Training Loss: 0.6923, Training Accuracy:  51.50%\n",
      "Validation Loss: 0.6946, Validation Accuracy:  50.89%\n",
      "Epoch: 3, Training Loss: 0.6890, Training Accuracy:  52.89%\n",
      "Validation Loss: 0.6974, Validation Accuracy:  50.07%\n",
      "Epoch: 4, Training Loss: 0.6843, Training Accuracy:  54.32%\n",
      "Validation Loss: 0.6975, Validation Accuracy:  51.56%\n",
      "Epoch: 5, Training Loss: 0.6761, Training Accuracy:  56.02%\n",
      "Validation Loss: 0.6989, Validation Accuracy:  52.91%\n",
      "Epoch: 6, Training Loss: 0.6711, Training Accuracy:  56.62%\n",
      "Validation Loss: 0.7007, Validation Accuracy:  50.97%\n",
      "Epoch: 7, Training Loss: 0.6653, Training Accuracy:  57.17%\n",
      "Validation Loss: 0.7043, Validation Accuracy:  51.24%\n",
      "Epoch: 8, Training Loss: 0.6461, Training Accuracy:  59.59%\n",
      "Validation Loss: 0.6996, Validation Accuracy:  55.12%\n",
      "Epoch: 9, Training Loss: 0.6430, Training Accuracy:  60.05%\n",
      "Validation Loss: 0.7073, Validation Accuracy:  52.16%\n",
      "Epoch: 10, Training Loss: 0.6436, Training Accuracy:  60.37%\n",
      "Validation Loss: 0.7146, Validation Accuracy:  52.07%\n",
      "--- Time taken to train = 81.33106875419617 seconds ---\n",
      "Test Accuracy: 52.24 with len=200\n",
      "\n",
      "\n",
      "Number of parameters = 11186002\n"
     ]
    }
   ],
   "source": [
    "# Model hyperparamters\n",
    "learning_rate = 0.0002\n",
    "layers = 2\n",
    "output_size = 2\n",
    "hidden_size = 50  # 100\n",
    "embedding_length = 100\n",
    "epochs = 10\n",
    "\n",
    "# Initialize model, training, testing\n",
    "set_seed(SEED)\n",
    "vanilla_rnn_model_long = VanillaRNN(layers, output_size, hidden_size,\n",
    "                                    vocab_size_long, embedding_length, DEVICE)\n",
    "vanilla_rnn_model_long.to(DEVICE)\n",
    "vanilla_rnn_start_time_long = time.time()\n",
    "vanilla_train_loss_long, vanilla_train_acc_long, vanilla_validation_loss_long, vanilla_validation_acc_long = train(vanilla_rnn_model_long,\n",
    "                                                                                                                   DEVICE,\n",
    "                                                                                                                   train_iter_long,\n",
    "                                                                                                                   valid_iter_long,\n",
    "                                                                                                                   epochs,\n",
    "                                                                                                                   learning_rate)\n",
    "print(\"--- Time taken to train = %s seconds ---\" % (time.time() - vanilla_rnn_start_time_long))\n",
    "test_accuracy = test(vanilla_rnn_model_long, DEVICE, test_iter_long)\n",
    "print(f'Test Accuracy: {test_accuracy} with len=200\\n')\n",
    "\n",
    "# Number of parameters\n",
    "print(f'\\nNumber of parameters = {count_parameters(vanilla_rnn_model_long)}')"
   ]
  },
  {
   "cell_type": "code",
   "execution_count": 18,
   "metadata": {
    "tags": []
   },
   "outputs": [
    {
     "data": {
      "image/png": "[encoded data removed]",
      "text/plain": [
       "<Figure size 576x432 with 1 Axes>"
      ]
     },
     "metadata": {
      "image/png": {
       "height": 413,
       "width": 613
      },
      "needs_background": "light"
     },
     "output_type": "display_data"
    }
   ],
   "source": [
    "# Compare accuracies of model trained on different sentence lengths\n",
    "plot_train_val(np.arange(0, epochs), vanilla_train_acc,\n",
    "               vanilla_validation_acc,\n",
    "               'train accuracy, len=50', 'val accuracy, len=50',\n",
    "               '', 'accuracy',\n",
    "               color='C0')\n",
    "plot_train_val(np.arange(0, epochs), vanilla_train_acc_long,\n",
    "               vanilla_validation_acc_long,\n",
    "               'train accuracy, len=200', 'val accuracy, len=200',\n",
    "               'Training and Validation Accuracy for Sentence Lengths 50 and 200',\n",
    "               'accuracy',\n",
    "               color='C1')\n",
    "plt.legend(loc='upper left')\n",
    "plt.show()"
   ]
  },
  {
   "cell_type": "markdown",
   "metadata": {
    "execution": {}
   },
   "source": [
    "## Section 1.3: Architectures"
   ]
  },
  {
   "cell_type": "code",
   "execution_count": 19,
   "metadata": {
    "cellView": "form",
    "tags": []
   },
   "outputs": [
    {
     "data": {
      "application/vnd.jupyter.widget-view+json": {
       "model_id": "655b03dea54e400783fb248aa3523d03",
       "version_major": 2,
       "version_minor": 0
      },
      "text/plain": [
       "Tab(children=(Output(), Output()), _titles={'0': 'Youtube', '1': 'Bilibili'})"
      ]
     },
     "metadata": {},
     "output_type": "display_data"
    }
   ],
   "source": [
    "# @title Video 2: Bidirectional RNNs\n",
    "from ipywidgets import widgets\n",
    "\n",
    "out2 = widgets.Output()\n",
    "with out2:\n",
    "  from IPython.display import IFrame\n",
    "  class BiliVideo(IFrame):\n",
    "    def __init__(self, id, page=1, width=400, height=300, **kwargs):\n",
    "      self.id=id\n",
    "      src = \"https://player.bilibili.com/player.html?bvid={0}&page={1}\".format(id, page)\n",
    "      super(BiliVideo, self).__init__(src, width, height, **kwargs)\n",
    "\n",
    "  video = BiliVideo(id=f\"BV1X64y1x7BA\", width=854, height=480, fs=1)\n",
    "  print(\"Video available at https://www.bilibili.com/video/{0}\".format(video.id))\n",
    "  display(video)\n",
    "\n",
    "out1 = widgets.Output()\n",
    "with out1:\n",
    "  from IPython.display import YouTubeVideo\n",
    "  video = YouTubeVideo(id=f\"TpgJwqB4i1c\", width=854, height=480, fs=1, rel=0)\n",
    "  print(\"Video available at https://youtube.com/watch?v=\" + video.id)\n",
    "  display(video)\n",
    "\n",
    "out = widgets.Tab([out1, out2])\n",
    "out.set_title(0, 'Youtube')\n",
    "out.set_title(1, 'Bilibili')\n",
    "\n",
    "# add event to airtable\n",
    "atform.add_event('Video 2: Bidirectional RNNs')\n",
    "\n",
    "display(out)"
   ]
  },
  {
   "cell_type": "markdown",
   "metadata": {
    "execution": {}
   },
   "source": [
    "RNN models are mostly used in the fields of natural language processing and speech recognition. Below are types of RNNs. Depending on which outputs we use, RNN can be used for variety of tasks. The text classification problem we solved was an instance of the many to one architecture. Write down the applications of other architectures. \n"
   ]
  },
  {
   "cell_type": "markdown",
   "metadata": {
    "execution": {}
   },
   "source": [
    "<figure>\n",
    "  <img width=800 src=\"https://raw.githubusercontent.com/NeuromatchAcademy/course-content-dl/main/tutorials/W2D3_ModernRecurrentNeuralNetworks/static/karpathy.jpeg\">\n",
    "  <figcaption>\n",
    "  Source <a href=\"https://blog.floydhub.com/\">blog.floydhub.com</a>\n",
    "  </figcaption>\n",
    "</figure>"
   ]
  },
  {
   "cell_type": "markdown",
   "metadata": {
    "execution": {}
   },
   "source": [
    "## Section 1.4: Vanishing and Exploding Gradients\n",
    "\n",
    "For an RNN to learn via backprop through time on a loss calculated at time $T$, $\\mathcal{L}_T$, with respect to an input $t$ time steps in the past, the RNN weights must be updated based on how they contributed to the hidden state at this past time step. This contribution is learned through the term $\\frac{\\partial h_{-t}}{\\partial W}$, in the gradient of the loss, $\\frac{\\partial\\mathcal{L}_T}{\\partial W}$.\n",
    "\n",
    "However, because one has to backpropagate error through $t-1$ hidden states, $\\frac{\\partial h_{-t}}{\\partial W}$ is multiplied by $\\prod_{i=0}^{t-1} \\frac{\\partial{h_i}}{\\partial{h_{i-1}}}$ in the expression for $\\frac{\\partial\\mathcal{L}_T}{\\partial W}$, which are summarized mathematically:\n",
    "\n",
    "\\begin{equation}\n",
    "\\frac{\\partial{\\mathcal{L}_T}}{\\partial{W}} \\propto \\frac{\\partial h_t }{ \\partial W} + \\sum_{k=0}^{t-1} \\left( \\prod_{i=k+1}^{t} \\frac{\\partial{h_i}}{\\partial{h_{i-1}}} \\right) \\frac{\\partial{h_k}}{\\partial{W}}\n",
    "\\end{equation}\n",
    "\n",
    "The product term leads to two common problems during the backpropagation of time-series data:\n",
    "\n",
    "* *Vanishing gradients*, *if* $ \\left| \\left| \\frac{\\partial{h_i}}{\\partial{h_{i-1}}} \\right| \\right|_2 < 1$\n",
    "\n",
    "\n",
    "* *Exploding gradients*, *if* $ \\left| \\left| \\frac{\\partial{h_i}}{\\partial{h_{i-1}}} \\right| \\right|_2 > 1$\n",
    "\n",
    "Given a sufficiently long sequence, the gradients get multiplied by the weight matrix at every time step. If the weight matrix contains very small values, then the norm of gradients will become smaller and smaller exponentially, the so-called **vanishing gradient** problem. On the other hand, if we have a weight matrix with very large values, the gradients will increase exponentially, leading to the **exploding gradients** problem: where the weights diverge at the update step.\n",
    "\n",
    "An example that has the vanishing gradient problem:\n",
    "\n",
    "The input is the characters from a *C* Program. The system will tell whether it is a syntactically correct program. A syntactically correct program should have a valid number of braces and parentheses. Thus, the network should remember how many open parentheses and braces there are to check, and whether we have closed them all. The network has to store such information in hidden states like a counter. However, because of vanishing gradients, it will fail to preserve such information in a long program."
   ]
  },
  {
   "cell_type": "markdown",
   "metadata": {
    "execution": {}
   },
   "source": [
    "---\n",
    "# Section 2: LSTM, GRU and Memory Cell\n",
    "\n",
    "*Time estimate: ~28mins*"
   ]
  },
  {
   "cell_type": "code",
   "execution_count": 20,
   "metadata": {
    "cellView": "form",
    "tags": []
   },
   "outputs": [
    {
     "data": {
      "application/vnd.jupyter.widget-view+json": {
       "model_id": "ecf2e4ade18b4e21a70e0e2d6292a25b",
       "version_major": 2,
       "version_minor": 0
      },
      "text/plain": [
       "Tab(children=(Output(), Output()), _titles={'0': 'Youtube', '1': 'Bilibili'})"
      ]
     },
     "metadata": {},
     "output_type": "display_data"
    }
   ],
   "source": [
    "# @title Video 3: LSTM, GRU & The Memory Cells\n",
    "from ipywidgets import widgets\n",
    "\n",
    "out2 = widgets.Output()\n",
    "with out2:\n",
    "  from IPython.display import IFrame\n",
    "  class BiliVideo(IFrame):\n",
    "    def __init__(self, id, page=1, width=400, height=300, **kwargs):\n",
    "      self.id=id\n",
    "      src = \"https://player.bilibili.com/player.html?bvid={0}&page={1}\".format(id, page)\n",
    "      super(BiliVideo, self).__init__(src, width, height, **kwargs)\n",
    "\n",
    "  video = BiliVideo(id=f\"BV1Zq4y1X7kj\", width=854, height=480, fs=1)\n",
    "  print(\"Video available at https://www.bilibili.com/video/{0}\".format(video.id))\n",
    "  display(video)\n",
    "\n",
    "out1 = widgets.Output()\n",
    "with out1:\n",
    "  from IPython.display import YouTubeVideo\n",
    "  video = YouTubeVideo(id=f\"qC7O-2sXLAU\", width=854, height=480, fs=1, rel=0)\n",
    "  print(\"Video available at https://youtube.com/watch?v=\" + video.id)\n",
    "  display(video)\n",
    "\n",
    "out = widgets.Tab([out1, out2])\n",
    "out.set_title(0, 'Youtube')\n",
    "out.set_title(1, 'Bilibili')\n",
    "\n",
    "# add event to airtable\n",
    "atform.add_event('Video 3: LSTM, GRU & The Memory Cells')\n",
    "\n",
    "display(out)"
   ]
  },
  {
   "cell_type": "markdown",
   "metadata": {
    "execution": {}
   },
   "source": [
    "## Section 2.1: Architecture\n",
    "\n",
    "The core idea behind an LSTM is the cell state $C_t$ that runs along all the LSTM units in a layer, and gets updated along the way. These updates are possible through \"gates\". Gates are made out of a sigmoid neural net layer and a pointwise multiplication operation. \n",
    "\n",
    "Each LSTM unit performs the following distinct steps using the input $X_t$, current cell state $C_t$ and previous hidden state $H_{t-1}$:\n",
    "\n",
    "* Forget Gate: *Should I throw away information from this cell?*\n",
    "\n",
    "\\begin{equation}\n",
    "F_t = \\sigma (W_f \\cdot [H_{t-1}, X_t] + b_f)\n",
    "\\end{equation}\n",
    "\n",
    "* Input Gate:\n",
    "    * *Should I add new values to this cell?*\n",
    "      \\begin{equation}\n",
    "      I_t = \\sigma (W_i \\cdot [H_{t-1}, X_t] + b_i)\n",
    "      \\end{equation}\n",
    "    * *What new candidate values should I store?*\n",
    "      \\begin{equation}\n",
    "      \\tilde{C}_t = tanh (W_C \\cdot [H_{t-1}, X_t] + b_C)\n",
    "      \\end{equation}\n",
    "\n",
    "* Update cell state: *Forget things from the past and add new things from the candidates*\n",
    "  \\begin{equation}\n",
    "  C_t = (F_t \\cdot C_{t-1}) + (I_t \\cdot \\tilde{C}_t)\n",
    "  \\end{equation}\n",
    "\n",
    "* Output Gate: \n",
    "    * *What information should I output?*\n",
    "      \\begin{equation}\n",
    "      O_t = \\sigma (W_o \\cdot [H_{t-1}, X_t] + b_o)\n",
    "      \\end{equation}\n",
    "    * *How much of the cell state should I store in the hidden state?*\n",
    "      \\begin{equation}\n",
    "      H_t = O_t \\cdot tanh(C_t)\n",
    "      \\end{equation}\n",
    "\n",
    "The architecture can be summarized by the diagram below:\n",
    "\n",
    "<center>\n",
    "<figure>\n",
    "  <img width=700 src=\"https://raw.githubusercontent.com/NeuromatchAcademy/course-content-dl/main/tutorials/W2D3_ModernRecurrentNeuralNetworks/static/lstm-1.svg\">\n",
    "  <figcaption>\n",
    "  Source <a href=\"https://d2l.ai/\">d2l.ai</a>\n",
    "  </figcaption>\n",
    "</figure>\n",
    "</center>"
   ]
  },
  {
   "cell_type": "markdown",
   "metadata": {
    "execution": {}
   },
   "source": [
    "### Coding Exercise 2.1: Implementing LSTM\n",
    "\n",
    "It is now your turn to build an LSTM network in PyTorch. Feel free to refer to the documentation here: https://pytorch.org/docs/stable/generated/torch.nn.LSTM.html#torch.nn.LSTM . \n",
    "\n",
    "* Once again we will use `nn.Embedding`. You are given the `vocab_size` and the `embed_size`.\n",
    "* Add the [`LSTM`](https://pytorch.org/docs/stable/generated/torch.nn.LSTM.html#torch.nn.LSTM) layers. \n",
    "* Define a dropout layer of 0.5. \n",
    "* Determine the size of inputs and outputs to the fully-connected layer.\n",
    "* Pay special attention to the shapes of your inputs and outputs as you write the forward function.\n",
    "\n"
   ]
  },
  {
   "cell_type": "code",
   "execution_count": null,
   "metadata": {
    "execution": {}
   },
   "outputs": [],
   "source": [
    "class LSTM(nn.Module):\n",
    "  def __init__(self, layers, output_size, hidden_size, vocab_size, embed_size,\n",
    "               device):\n",
    "    super(LSTM, self).__init__()\n",
    "    self.n_layers = layers\n",
    "    self.output_size = output_size\n",
    "    self.hidden_size = hidden_size\n",
    "    self.device = device\n",
    "    ####################################################################\n",
    "    # Fill in missing code below (...),\n",
    "    # then remove or comment the line below to test your function\n",
    "    #raise NotImplementedError(\"LSTM Init\")\n",
    "    ####################################################################\n",
    "    # Define the word embeddings\n",
    "    self.word_embeddings = nn.Embedding(vocab_size, embed_size)\n",
    "    # Define the dropout layer\n",
    "    self.dropout = nn.Dropout(0.5)\n",
    "    # Define the lstm layer\n",
    "    self.lstm = nn.LSTM(embed_size, hidden_size, num_layers=layers)\n",
    "    # Define the fully-connected layer\n",
    "    self.fc = nn.Linear(layers * embed_size, output_size)\n",
    "\n",
    "\n",
    "  def forward(self, input_sentences):\n",
    "    \"\"\"Hint: Make sure the shapes of your tensors match the requirement\"\"\"\n",
    "    ####################################################################\n",
    "    # Fill in missing code below (...),\n",
    "    # then remove or comment the line below to test your function\n",
    "    #raise NotImplementedError(\"LSTM Forward\")\n",
    "    ####################################################################\n",
    "    # Embeddings\n",
    "    # `input` shape: (`num_steps`, `batch_size`, `num_hiddens`)\n",
    "    input = self.word_embeddings(input_sentences)\n",
    "\n",
    "    hidden = (torch.randn(self.n_layers, input.shape[1],\n",
    "                          self.hidden_size).to(self.device),\n",
    "              torch.randn(self.n_layers, input.shape[1],\n",
    "                          self.hidden_size).to(self.device))\n",
    "    # Dropout for regularization\n",
    "    input = self.dropout(input)\n",
    "    # LSTM\n",
    "    output, hidden = ...\n",
    "\n",
    "    h_n = hidden[0].permute(1, 0, 2)\n",
    "    h_n = h_n.contiguous().view(h_n.shape[0], -1)\n",
    "\n",
    "    logits = self.fc(h_n)\n",
    "\n",
    "    return logits\n",
    "\n",
    "\n",
    "# add event to airtable\n",
    "atform.add_event('Coding Exercise 2.1: Implementing LSTM')\n",
    "\n",
    "## Uncomment to run\n",
    "# sampleLSTM = LSTM(3, 10, 100, 1000, 300, DEVICE)\n",
    "# print(sampleLSTM)"
   ]
  },
  {
   "cell_type": "markdown",
   "metadata": {
    "colab_type": "text",
    "execution": {}
   },
   "source": [
    "[*Click for solution*](https://github.com/NeuromatchAcademy/course-content-dl/tree/main//tutorials/W2D3_ModernRecurrentNeuralNetworks/solutions/W2D3_Tutorial2_Solution_2e49ddad.py)\n",
    "\n"
   ]
  },
  {
   "cell_type": "markdown",
   "metadata": {
    "execution": {}
   },
   "source": [
    "```\n",
    "LSTM(\n",
    "  (word_embeddings): Embedding(1000, 300)\n",
    "  (dropout): Dropout(p=0.5, inplace=False)\n",
    "  (lstm): LSTM(300, 100, num_layers=3)\n",
    "  (fc): Linear(in_features=300, out_features=10, bias=True)\n",
    ")\n",
    "```"
   ]
  },
  {
   "cell_type": "code",
   "execution_count": null,
   "metadata": {
    "execution": {}
   },
   "outputs": [],
   "source": [
    "# Hyperparameters\n",
    "learning_rate = 0.0003\n",
    "layers = 2\n",
    "output_size = 2\n",
    "hidden_size = 16\n",
    "embedding_length = 100\n",
    "epochs = 10\n",
    "\n",
    "# Model, training, testing\n",
    "set_seed(SEED)\n",
    "lstm_model = LSTM(layers, output_size, hidden_size, vocab_size,\n",
    "                  embedding_length, DEVICE)\n",
    "lstm_model.to(DEVICE)\n",
    "lstm_train_loss, lstm_train_acc, lstm_validation_loss, lstm_validation_acc = train(lstm_model,\n",
    "                                                                                   DEVICE,\n",
    "                                                                                   train_iter,\n",
    "                                                                                   valid_iter,\n",
    "                                                                                   epochs,\n",
    "                                                                                   learning_rate)\n",
    "test_accuracy = test(lstm_model, DEVICE, test_iter)\n",
    "print(f'\\n\\nTest Accuracy: {test_accuracy} of the LSTM model\\n')\n",
    "\n",
    "# Plotting accuracy curve\n",
    "plt.figure()\n",
    "plt.subplot(211)\n",
    "plot_train_val(np.arange(0, epochs), lstm_train_acc, lstm_validation_acc,\n",
    "               'train accuracy',\n",
    "               'val accuracy',\n",
    "               'LSTM on IMDB text classification',\n",
    "               'accuracy',\n",
    "               color='C0')\n",
    "plt.legend(loc='upper left')\n",
    "plt.subplot(212)\n",
    "plot_train_val(np.arange(0, epochs), lstm_train_loss, lstm_validation_loss,\n",
    "               'train loss',\n",
    "               'val loss',\n",
    "               '',\n",
    "               'loss',\n",
    "               color='C0')\n",
    "plt.legend(loc='upper left')\n",
    "plt.tight_layout()\n",
    "plt.show()"
   ]
  },
  {
   "cell_type": "markdown",
   "metadata": {
    "execution": {}
   },
   "source": [
    "## Section 2.2: Gated Recurrent Units (GRU)\n",
    "\n",
    "The GRU architecture looks very similar to the LSTM, and is often used as an alternative to the traditional LSTM. It also contains some variations that reduce it's complexity. For example, it combines the forget and input gates into a single “update gate”; it contains a \"hidden state\" but not a \"cell state\". In the next section we will be using GRUs as the choice of recurrent unit in our models, but you can always swap out the GRU for an LSTM later on (make sure that you take care of input and output dimensions in this case). Here is a description of the parts of the GRU:\n",
    "\n",
    "* Reset Gate: *How much of the previous hidden state should I remember?*\n",
    "  \\begin{equation}\n",
    "  R_t = \\sigma (W_r \\cdot [H_{t-1}, X_t])\n",
    "  \\end{equation}\n",
    "\n",
    "* Update Gate: \n",
    "    * *How much of the new state is different from the old state?*\n",
    "      \\begin{equation}\n",
    "      Z_t = \\sigma (W_z \\cdot [H_{t-1}, X_t])\n",
    "      \\end{equation}\n",
    "    * *What new candidate values should I store?*\n",
    "      \\begin{equation}\n",
    "      \\tilde{H}_t = tanh (W \\cdot [R_t \\cdot H_{t-1}, X_t])\n",
    "      \\end{equation}\n",
    "\n",
    "* Update hidden state: *Deciding how much of the old hidden state to keep and discard*\n",
    "  \\begin{equation}\n",
    "  H_t = ((1-Z_t) \\cdot H_{t-1} ) + (Z_t \\cdot \\tilde{H}_t)\n",
    "  \\end{equation}\n",
    "\n",
    "Here is what the architecture looks like:\n",
    "\n",
    "<center>\n",
    "<figure>\n",
    "  <img width=700 src=\"https://raw.githubusercontent.com/NeuromatchAcademy/course-content-dl/main/tutorials/W2D3_ModernRecurrentNeuralNetworks/static/gru-3.svg\">\n",
    "  <figcaption>\n",
    "  Source <a href=\"https://d2l.ai/\">d2l.ai</a>\n",
    "  </figcaption>\n",
    "</figure>\n",
    "</center>"
   ]
  },
  {
   "cell_type": "markdown",
   "metadata": {
    "execution": {}
   },
   "source": [
    "### Coding Exercise 2.2: BiLSTM\n",
    "\n",
    "Let's apply the knowledge to write a bi-LSTM using PyTorch.\n",
    "\n",
    "* Use an Embedding layer\n",
    "* Dropout of 0.5\n",
    "* Add 2 LSTM layers\n",
    "* Linear layer "
   ]
  },
  {
   "cell_type": "code",
   "execution_count": null,
   "metadata": {
    "execution": {}
   },
   "outputs": [],
   "source": [
    "class biLSTM(nn.Module):\n",
    "  def __init__(self, output_size, hidden_size, vocab_size, embed_size,\n",
    "               device):\n",
    "    super(biLSTM, self).__init__()\n",
    "    self.output_size = output_size\n",
    "    self.hidden_size = hidden_size\n",
    "    self.device = device\n",
    "    ####################################################################\n",
    "    # Fill in missing code below (...)\n",
    "    raise NotImplementedError(\"biLSTM\")\n",
    "    ####################################################################\n",
    "    # Define the word embeddings\n",
    "    self.word_embeddings = ...\n",
    "    # Define the dropout layer\n",
    "    self.dropout = ...\n",
    "    # Define the bilstm layer\n",
    "    self.bilstm = ...\n",
    "    # Define the fully-connected layer\n",
    "    self.fc = ...\n",
    "\n",
    "  def forward(self, input_sentences):\n",
    "    input = self.word_embeddings(input_sentences).permute(1, 0, 2)\n",
    "    hidden = (torch.randn(4, input.shape[1], self.hidden_size).to(self.device),\n",
    "              torch.randn(4, input.shape[1], self.hidden_size).to(self.device))\n",
    "    input = self.dropout(input)\n",
    "\n",
    "    output, hidden = self.bilstm(input, hidden)\n",
    "\n",
    "    h_n = hidden[0].permute(1, 0, 2)\n",
    "    h_n = h_n.contiguous().view(h_n.shape[0], -1)\n",
    "    logits = self.fc(h_n)\n",
    "\n",
    "    return logits\n",
    "\n",
    "\n",
    "# add event to airtable\n",
    "atform.add_event('Coding Exercise 2.2: BiLSTM')\n",
    "\n",
    "## Uncomment to run\n",
    "# sampleBiLSTM = biLSTM(10, 100, 1000, 300, DEVICE)\n",
    "# print(sampleBiLSTM)"
   ]
  },
  {
   "cell_type": "markdown",
   "metadata": {
    "colab_type": "text",
    "execution": {}
   },
   "source": [
    "[*Click for solution*](https://github.com/NeuromatchAcademy/course-content-dl/tree/main//tutorials/W2D3_ModernRecurrentNeuralNetworks/solutions/W2D3_Tutorial2_Solution_ee3eea5f.py)\n",
    "\n"
   ]
  },
  {
   "cell_type": "markdown",
   "metadata": {
    "execution": {}
   },
   "source": [
    "```\n",
    "biLSTM(\n",
    "  (word_embeddings): Embedding(1000, 300)\n",
    "  (dropout): Dropout(p=0.5, inplace=False)\n",
    "  (bilstm): LSTM(300, 100, num_layers=2, bidirectional=True)\n",
    "  (fc): Linear(in_features=400, out_features=10, bias=True)\n",
    ")\n",
    "```"
   ]
  },
  {
   "cell_type": "code",
   "execution_count": null,
   "metadata": {
    "execution": {}
   },
   "outputs": [],
   "source": [
    "# Hyperparameters\n",
    "learning_rate = 0.0003\n",
    "output_size = 2\n",
    "hidden_size = 16\n",
    "embedding_length = 100\n",
    "epochs = 10\n",
    "\n",
    "# Model, training, testing\n",
    "set_seed(SEED)\n",
    "bilstm_model = biLSTM(output_size, hidden_size, vocab_size,\n",
    "                      embedding_length, DEVICE)\n",
    "bilstm_model.to(DEVICE)\n",
    "bilstm_train_loss, bilstm_train_acc, bilstm_validation_loss, bilstm_validation_acc = train(bilstm_model,\n",
    "                                                                                           DEVICE,\n",
    "                                                                                           train_iter,\n",
    "                                                                                           valid_iter,\n",
    "                                                                                           epochs,\n",
    "                                                                                           learning_rate)\n",
    "test_accuracy = test(bilstm_model, DEVICE, test_iter)\n",
    "print(f'Test Accuracy: {test_accuracy} of the biLSTM model\\n')\n",
    "\n",
    "# Plotting accuracy curve\n",
    "plt.figure()\n",
    "plt.subplot(211)\n",
    "plot_train_val(np.arange(0, epochs), bilstm_train_acc, bilstm_validation_acc,\n",
    "               'train accuracy',\n",
    "               'val accuracy',\n",
    "               'biLSTM on IMDB text classification',\n",
    "               'accuracy',\n",
    "               color='C1')\n",
    "plt.legend(loc='upper left')\n",
    "plt.subplot(212)\n",
    "plot_train_val(np.arange(0, epochs), bilstm_train_loss, bilstm_validation_loss,\n",
    "               'train loss',\n",
    "               'val loss',\n",
    "               '',\n",
    "               'loss',\n",
    "               color='C1')\n",
    "plt.legend(loc='upper left')\n",
    "plt.tight_layout()\n",
    "plt.show()"
   ]
  },
  {
   "cell_type": "code",
   "execution_count": null,
   "metadata": {
    "execution": {}
   },
   "outputs": [],
   "source": [
    "# Compare accuracies of LSTM and biLSTM\n",
    "plot_train_val(np.arange(0, epochs), lstm_train_acc,\n",
    "               lstm_validation_acc,\n",
    "               'train accuracy LSTM', 'val accuracy LSTM',\n",
    "               '', 'accuracy',\n",
    "               color='C0')\n",
    "plot_train_val(np.arange(0, epochs), bilstm_train_acc,\n",
    "               bilstm_validation_acc,\n",
    "               'train accuracy biLSTM', 'val accuracy biLSTM',\n",
    "               'Training and Validation Accuracy for LSTM and biLSTM models',\n",
    "               'accuracy',\n",
    "               color='C1')\n",
    "plt.legend(loc='upper left')\n",
    "plt.show()"
   ]
  },
  {
   "cell_type": "markdown",
   "metadata": {
    "execution": {}
   },
   "source": [
    "---\n",
    "# Section 3: Sequence to Sequence (Seq2Seq) & Encoder/ Decoder Networks\n",
    "\n",
    "*Time estimate: ~15mins*"
   ]
  },
  {
   "cell_type": "code",
   "execution_count": null,
   "metadata": {
    "cellView": "form",
    "execution": {}
   },
   "outputs": [],
   "source": [
    "# @title Video 4: Seq2Seq & Encoder-Decoder Nets\n",
    "from ipywidgets import widgets\n",
    "\n",
    "out2 = widgets.Output()\n",
    "with out2:\n",
    "  from IPython.display import IFrame\n",
    "  class BiliVideo(IFrame):\n",
    "    def __init__(self, id, page=1, width=400, height=300, **kwargs):\n",
    "      self.id=id\n",
    "      src = \"https://player.bilibili.com/player.html?bvid={0}&page={1}\".format(id, page)\n",
    "      super(BiliVideo, self).__init__(src, width, height, **kwargs)\n",
    "\n",
    "  video = BiliVideo(id=f\"BV1WM4y1N7P7\", width=854, height=480, fs=1)\n",
    "  print(\"Video available at https://www.bilibili.com/video/{0}\".format(video.id))\n",
    "  display(video)\n",
    "\n",
    "out1 = widgets.Output()\n",
    "with out1:\n",
    "  from IPython.display import YouTubeVideo\n",
    "  video = YouTubeVideo(id=f\"q-hf7mnZsXo\", width=854, height=480, fs=1, rel=0)\n",
    "  print(\"Video available at https://youtube.com/watch?v=\" + video.id)\n",
    "  display(video)\n",
    "\n",
    "out = widgets.Tab([out1, out2])\n",
    "out.set_title(0, 'Youtube')\n",
    "out.set_title(1, 'Bilibili')\n",
    "\n",
    "# add event to airtable\n",
    "atform.add_event('Video 4: Seq2Seq & Encoder-Decoder Nets')\n",
    "\n",
    "display(out)"
   ]
  },
  {
   "cell_type": "markdown",
   "metadata": {
    "execution": {}
   },
   "source": [
    "Sources: [d2l.ai on encoders](https://d2l.ai/chapter_recurrent-modern/encoder-decoder.html) ; [d2l.ai on seq2seq](https://d2l.ai/chapter_recurrent-modern/seq2seq.html) ; [Jalammar's blog](https://jalammar.github.io/visualizing-neural-machine-translation-mechanics-of-seq2seq-models-with-attention/ )\n",
    "\n",
    "Sequence-to-sequence models take in a sequence of items (words, characters, etc) as input and produces another sequence of items as output. The most \n",
    "simple seq2seq models are composed of two parts: the encoder, the context (\"state\" in the figure) and the decoder. The encoder and decoder usually consist of recurrent units that we've seen before (RNNs, GRUs or LSTMs). A high-level schematic of the architecture is as follows:\n",
    "\n",
    "<center>\n",
    "<figure>\n",
    "  <img width=700 src=\"https://raw.githubusercontent.com/NeuromatchAcademy/course-content-dl/main/tutorials/W2D3_ModernRecurrentNeuralNetworks/static/seq2seq-predict.svg\">\n",
    "  <figcaption>\n",
    "  Source <a href=\"https://d2l.ai/\">d2l.ai</a>\n",
    "  </figcaption>\n",
    "</figure>\n",
    "</center>\n",
    "\n",
    "The encoder's recurrent unit processes the input one item at a time. Once the entire sequence is processed, the final hidden state vector produced is known as a context vector. The size of the context vector is defined while setting up the model, and is equal to the number of hidden states used in the encoder RNN. The encoder then passes the context to the decoder. The decoder's recurrent unit uses the context to produce the items for the output sequence one by one.   \n"
   ]
  },
  {
   "cell_type": "markdown",
   "metadata": {
    "execution": {}
   },
   "source": [
    "One of the most popular applications of seq2seq models is \"machine translation\": the task of taking in a sentence in one language (the source) and producing its translation in another language (the target); with words in both lanugages being the sequence units. This is a supervised learning task, and requires the dataset to have \"parallel sentences\"; i.e., each sentence in the source language must be labelled with its translation in the target language. \n",
    "\n",
    "[Here is an intuitive visualization for understanding seq2seq models for machine translation from English to French](https://i.imgur.com/HJ6t8up.mp4)\n",
    "\n",
    "Since the vocabulary of an entire language is very large, training such models to give meaningful performance requires significant time and resources. In this section, we will train a seq2seq model to perform machine translation from English to [Pig-Latin](https://en.wikipedia.org/wiki/Pig_Latin). We will modify the task to perform character-level machine translation, so that vocabulary size does not grow exponentially.   \n"
   ]
  },
  {
   "cell_type": "markdown",
   "metadata": {
    "execution": {}
   },
   "source": [
    "## Coding Exercise 3: Encoder\n",
    "\n",
    "Let us consider a sequence example (`batch_size=1`). Suppose that the input sequence is $x_1, \\ldots, x_T$, such that $x_t$ is the $t^{\\mathrm{th}}$ token in the input text sequence. At time step $t$, the RNN transforms the input feature vector $\\mathbf{x}_t$ for $x_t$ and the hidden state $\\mathbf{h} _{t-1}$ from the previous time step into the current hidden state $\\mathbf{h}_t$.\n",
    "\n",
    "We can use a function $f$ to express the transformation of the RNN's recurrent layer:\n",
    "\n",
    "\\begin{equation}\n",
    "\\mathbf{h}_t = f(\\mathbf{x}_t, \\mathbf{h}_{t-1})\n",
    "\\end{equation}\n",
    "\n",
    "In general, the encoder transforms the hidden states at all the time steps into the context variable through a customized function $q$:\n",
    "\n",
    "\\begin{equation}\n",
    "\\mathbf{c} =  q(\\mathbf{h}_1, \\ldots, \\mathbf{h}_T)\n",
    "\\end{equation}\n",
    "\n",
    "For example, when choosing $q(\\mathbf{h}_1, \\ldots, \\mathbf{h}_T) = \\mathbf{h}_T$  the context variable is just the hidden state $\\mathbf{h}_T$ of the input sequence at the final time step.\n",
    "\n",
    "So far we have used a unidirectional RNN to design the encoder, where a hidden state only depends on the input subsequence at and before the time step of the hidden state. We can also construct encoders using bidirectional RNNs. In this case, a hidden state depends on the subsequence before and after the time step (including the input at the current time step), which encodes the information of the entire sequence.\n",
    "\n",
    "Now let us implement the RNN encoder. Note that we use an *embedding layer*\n",
    "to obtain the feature vector for each token in the input sequence. The weight of an embedding layer is a matrix whose number of rows is equal to the size of the input vocabulary (`vocab_size`) and the number of columns equals to the feature vector's dimension (`embed_size`). For any input token index $i$,\n",
    "the embedding layer fetches the $i^{\\mathrm{th}}$ row (starting from 0) of the weight matrix to return its feature vector. ere we choose a multilayer GRU to implement the encoder."
   ]
  },
  {
   "cell_type": "markdown",
   "metadata": {
    "execution": {}
   },
   "source": [
    "The returned variables of recurrent layers have been completely explained at [this link](https://www.d2l.ai/chapter_recurrent-neural-networks/rnn-concise.html#sec-rnn-concise). Let us still use a concrete example to illustrate the above encoder implementation. Below we instantiate a two-layer GRU encoder whose number of hidden units is 16. Given a minibatch of sequence inputs $X$ (`batch_size=4`, `number_of_time_steps=7`), the hidden states of the last layer at all the time steps (`output` returned by the encoder's recurrent layers) are a tensor of shape (number of time steps, batch size, number of hidden units).\n"
   ]
  },
  {
   "cell_type": "code",
   "execution_count": null,
   "metadata": {
    "execution": {}
   },
   "outputs": [],
   "source": [
    "class Seq2SeqEncoder(d2l.Encoder):\n",
    "  \"\"\"The RNN encoder for sequence to sequence learning.\"\"\"\n",
    "  def __init__(self, vocab_size, embed_size, num_hiddens, num_layers,\n",
    "                dropout=0, **kwargs):\n",
    "    super(Seq2SeqEncoder, self).__init__(**kwargs)\n",
    "    ####################################################################\n",
    "    # Fill in missing code below (...),\n",
    "    # then remove or comment the line below to test your function\n",
    "    raise NotImplementedError(\"Encoder Unit\")\n",
    "    ####################################################################\n",
    "    # Embedding layer\n",
    "    self.embedding = ...\n",
    "    # Here you're going to implement a GRU as the RNN unit\n",
    "    self.rnn = ...\n",
    "\n",
    "  def forward(self, X, *args):\n",
    "    # The output `X` shape: (`batch_size`, `num_steps`, `embed_size`)\n",
    "    X = self.embedding(X)\n",
    "    # In RNN models, the first axis corresponds to time steps\n",
    "    X = X.permute(1, 0, 2)\n",
    "    ####################################################################\n",
    "    # Fill in missing code below (...),\n",
    "    # then remove or comment the line below to test your function\n",
    "    raise NotImplementedError(\"Forward pass\")\n",
    "    ####################################################################\n",
    "    # When state is not mentioned, it defaults to zeros, the output should be a RNN function of X!\n",
    "    output, state = ...\n",
    "    # `output` shape: (`num_steps`, `batch_size`, `num_hiddens`)\n",
    "    # `state` shape: (`num_layers`, `batch_size`, `num_hiddens`)\n",
    "\n",
    "    return output, state\n",
    "\n",
    "\n",
    "# add event to airtable\n",
    "atform.add_event('Coding Exercise 3: Encoder')\n",
    "\n",
    "X = torch.zeros((4, 7), dtype=torch.long)\n",
    "## uncomment the lines below.\n",
    "# encoder = Seq2SeqEncoder(vocab_size=10, embed_size=8, num_hiddens=16, num_layers=2)\n",
    "# encoder.eval()\n",
    "# output, state = encoder(X)\n",
    "# print(output.shape)\n",
    "# print(state.shape)"
   ]
  },
  {
   "cell_type": "markdown",
   "metadata": {
    "colab_type": "text",
    "execution": {}
   },
   "source": [
    "[*Click for solution*](https://github.com/NeuromatchAcademy/course-content-dl/tree/main//tutorials/W2D3_ModernRecurrentNeuralNetworks/solutions/W2D3_Tutorial2_Solution_29fbb575.py)\n",
    "\n"
   ]
  },
  {
   "cell_type": "markdown",
   "metadata": {
    "execution": {}
   },
   "source": [
    "```\n",
    "torch.Size([7, 4, 16])\n",
    "torch.Size([2, 4, 16])\n",
    "```"
   ]
  },
  {
   "cell_type": "markdown",
   "metadata": {
    "execution": {}
   },
   "source": [
    "## Section 3.1: Decoder\n",
    "\n",
    "As we just mentioned, the context variable $\\mathbf{c}$ of the encoder's output encodes the entire input sequence $x_1, \\ldots, x_T$. Given the output sequence $y_1, y_2, \\ldots, y_{T'}$ from the training dataset, for each time step $t'$\n",
    "(the symbol differs from the time step $t$ of input sequences or encoders),\n",
    "the probability of the decoder output $y_{t'}$ is conditional on the previous output subsequence $y_1, \\ldots, y_{t'-1}$ and the context variable $\\mathbf{c}$, i.e., $P(y_{t'} \\mid y_1, \\ldots, y_{t'-1}, \\mathbf{c})$.\n",
    "\n",
    "\n",
    "To model this conditional probability on sequences, we can use another RNN as the decoder. At any time step $t^\\prime$ on the output sequence, the RNN takes the output $y_{t^\\prime-1}$ from the previous time step and the context variable $\\mathbf{c}$ as its input, then transforms them and the previous hidden state $\\mathbf{s}_{t^\\prime-1}$ into the hidden state $\\mathbf{s}_{t^\\prime}$ at the current time step.\n",
    "\n",
    "As a result, we can use a function $g$ to express the transformation of the decoder's hidden layer:\n",
    "\n",
    "\\begin{equation}\n",
    "\\mathbf{s}_{t^\\prime} = g(y_{t^\\prime-1}, \\mathbf{c}, \\mathbf{s}_{t^\\prime-1})\n",
    "\\end{equation}\n",
    "\n",
    "After obtaining the hidden state of the decoder, we can use an output layer and the softmax operation to compute the conditional probability distribution\n",
    "$P(y_{t^\\prime} \\mid y_1, \\ldots, y_{t^\\prime-1}, \\mathbf{c})$ for the output at time step $t^\\prime$.\n",
    "\n",
    "Following `fig_seq2seq`, when implementing the decoder as follows, we directly use the hidden state at the final time step of the encoder to initialize the hidden state of the decoder.\n",
    "\n",
    "This requires that the RNN encoder and the RNN decoder have the same number of layers and hidden units. To further incorporate the encoded input sequence information, the context variable is concatenated with the decoder input at all the time steps. To predict the probability distribution of the output token,\n",
    "a fully-connected layer is used to transform the hidden state at the final layer of the RNN decoder."
   ]
  },
  {
   "cell_type": "code",
   "execution_count": null,
   "metadata": {
    "execution": {}
   },
   "outputs": [],
   "source": [
    "class Seq2SeqDecoder(d2l.Decoder):\n",
    "  \"\"\"The RNN decoder for sequence to sequence learning.\"\"\"\n",
    "  def __init__(self, vocab_size, embed_size, num_hiddens, num_layers,\n",
    "                dropout=0, **kwargs):\n",
    "    super(Seq2SeqDecoder, self).__init__(**kwargs)\n",
    "    self.embedding = nn.Embedding(vocab_size, embed_size)\n",
    "    self.rnn = nn.GRU(embed_size + num_hiddens, num_hiddens, num_layers,\n",
    "                      dropout=dropout)\n",
    "    self.dense = nn.Linear(num_hiddens, vocab_size)\n",
    "\n",
    "  def init_state(self, enc_outputs, *args):\n",
    "    return enc_outputs[1]\n",
    "\n",
    "  def forward(self, X, state):\n",
    "    # The output `X` shape: (`num_steps`, `batch_size`, `embed_size`)\n",
    "    X = self.embedding(X).permute(1, 0, 2)\n",
    "    # Broadcast `context` so it has the same `num_steps` as `X`\n",
    "    context = state[-1].repeat(X.shape[0], 1, 1)\n",
    "    X_and_context = torch.cat((X, context), 2)\n",
    "    output, state = self.rnn(X_and_context, state)\n",
    "    output = self.dense(output).permute(1, 0, 2)\n",
    "    # `output` shape: (`batch_size`, `num_steps`, `vocab_size`)\n",
    "    # `state` shape: (`num_layers`, `batch_size`, `num_hiddens`)\n",
    "    return output, state"
   ]
  },
  {
   "cell_type": "markdown",
   "metadata": {
    "execution": {}
   },
   "source": [
    "To illustrate the implemented decoder,\n",
    "below we instantiate it with the same hyperparameters from the aforementioned encoder.\n",
    "As we can see, the output shape of the decoder becomes (batch size, number of time steps, vocabulary size),\n",
    "where the last dimension of the tensor stores the predicted token distribution.\n"
   ]
  },
  {
   "cell_type": "code",
   "execution_count": null,
   "metadata": {
    "execution": {}
   },
   "outputs": [],
   "source": [
    "decoder = Seq2SeqDecoder(vocab_size=10, embed_size=8, num_hiddens=16,\n",
    "                         num_layers=2)\n",
    "# decoder.initialize()\n",
    "state = decoder.init_state(encoder(X))\n",
    "output, state = decoder(X, state)\n",
    "output.shape, len(state), state[0].shape"
   ]
  },
  {
   "cell_type": "markdown",
   "metadata": {
    "execution": {}
   },
   "source": [
    "## Section 3.2: Loss Function\n",
    "\n",
    "At each time step, the decoder predicts a probability distribution for the output tokens. Similar to language modeling, we can apply softmax to obtain the distribution and calculate the cross-entropy loss for optimization. Recall that the special padding tokens are appended to the end of sequences so sequences of varying lengths can be efficiently loaded in minibatches of the same shape.\n",
    "However, prediction of padding tokens should be excluded from loss calculations.\n",
    "\n",
    "To this end, we can use the following `sequence_mask` function to mask irrelevant entries with zero values so later multiplication of any irrelevant prediction with zero equals to zero. For example, if the valid length of two sequences excluding padding tokens (i.e., pads each sequence to the same length usually matching the longest sequence) are one and two, respectively, the remaining entries after the first one and the first two entries are cleared to zeros.\n"
   ]
  },
  {
   "cell_type": "code",
   "execution_count": null,
   "metadata": {
    "execution": {}
   },
   "outputs": [],
   "source": [
    "def sequence_mask(X, valid_len, value=0):\n",
    "  \"\"\"Mask irrelevant entries in sequences.\"\"\"\n",
    "  maxlen = X.size(1)\n",
    "  mask = torch.arange((maxlen), dtype=torch.float32,\n",
    "                      device=X.device)[None, :] < valid_len[:, None]\n",
    "  X[~mask] = value\n",
    "  return X\n",
    "\n",
    "\n",
    "X = torch.tensor([[1, 2, 3], [4, 5, 6]])\n",
    "print(sequence_mask(X, torch.tensor([1, 2])))\n",
    "X = torch.ones(2, 3, 4)\n",
    "print(sequence_mask(X, torch.tensor([1, 2]), value=-1))"
   ]
  },
  {
   "cell_type": "markdown",
   "metadata": {
    "execution": {}
   },
   "source": [
    "Now we can extend the softmax cross-entropy loss\n",
    "to allow the masking of irrelevant predictions.\n",
    "Initially,\n",
    "masks for all the predicted tokens are set to one.\n",
    "Once the valid length is given,\n",
    "the mask corresponding to any padding token\n",
    "will be cleared to zero.\n",
    "In the end,\n",
    "the loss for all the tokens\n",
    "will be multipled by the mask to filter out\n",
    "irrelevant predictions of padding tokens in the loss.\n"
   ]
  },
  {
   "cell_type": "code",
   "execution_count": null,
   "metadata": {
    "execution": {}
   },
   "outputs": [],
   "source": [
    "class MaskedSoftmaxCELoss(nn.CrossEntropyLoss):\n",
    "  \"\"\"The softmax cross-entropy loss with masks.\"\"\"\n",
    "\n",
    "  # `pred` shape: (`batch_size`, `num_steps`, `vocab_size`)\n",
    "  # `label` shape: (`batch_size`, `num_steps`)\n",
    "  # `valid_len` shape: (`batch_size`,)\n",
    "\n",
    "  def forward(self, pred, label, valid_len):\n",
    "    weights = torch.ones_like(label)\n",
    "    weights = sequence_mask(weights, valid_len)\n",
    "    self.reduction = 'none'\n",
    "    unweighted_loss = super(MaskedSoftmaxCELoss,\n",
    "                            self).forward(pred.permute(0, 2, 1), label)\n",
    "    weighted_loss = (unweighted_loss * weights).mean(dim=1)\n",
    "\n",
    "    return weighted_loss\n",
    "\n",
    "\n",
    "loss = MaskedSoftmaxCELoss()\n",
    "loss(torch.ones(3, 4, 10),\n",
    "     torch.ones((3, 4), dtype=torch.long),\n",
    "     torch.tensor([4, 2, 0]))"
   ]
  },
  {
   "cell_type": "markdown",
   "metadata": {
    "execution": {}
   },
   "source": [
    "In the following training loop,\n",
    "we concatenate the special beginning-of-sequence token\n",
    "and the original output sequence excluding the final token as\n",
    "the input to the decoder.\n",
    "This is called *teacher forcing* because\n",
    "the original output sequence (token labels) is fed into the decoder.\n",
    "Alternatively,\n",
    "we could also feed the *predicted* token\n",
    "from the previous time step\n",
    "as the current input to the decoder."
   ]
  },
  {
   "cell_type": "code",
   "execution_count": null,
   "metadata": {
    "cellView": "form",
    "execution": {}
   },
   "outputs": [],
   "source": [
    "#@title Training\n",
    "def train_seq2seq(net, data_iter, lr, num_epochs, tgt_vocab, device):\n",
    "  \"\"\"Train a model for sequence to sequence.\"\"\"\n",
    "  def xavier_init_weights(m):\n",
    "    if type(m) == nn.Linear:\n",
    "      nn.init.xavier_uniform_(m.weight)\n",
    "    if type(m) == nn.GRU:\n",
    "      for param in m._flat_weights_names:\n",
    "        if \"weight\" in param:\n",
    "          nn.init.xavier_uniform_(m._parameters[param])\n",
    "\n",
    "\n",
    "  net.apply(xavier_init_weights)\n",
    "  net.to(device)\n",
    "  optimizer = torch.optim.Adam(net.parameters(), lr=lr)\n",
    "  loss = MaskedSoftmaxCELoss()\n",
    "  net.train()\n",
    "  animator = d2l.Animator(xlabel='epoch', ylabel='loss',\n",
    "                          xlim=[10, num_epochs])\n",
    "  for epoch in range(num_epochs):\n",
    "    timer = d2l.Timer()\n",
    "    metric = d2l.Accumulator(2)  # Sum of training loss, no. of tokens\n",
    "    for batch in data_iter:\n",
    "      optimizer.zero_grad()\n",
    "      X, X_valid_len, Y, Y_valid_len = [x.to(device) for x in batch]\n",
    "      bos = torch.tensor([tgt_vocab['<bos>']] * Y.shape[0],\n",
    "                          device=device).reshape(-1, 1)\n",
    "      dec_input = torch.cat([bos, Y[:, :-1]], 1)  # Teacher forcing\n",
    "      Y_hat, _ = net(X, dec_input, X_valid_len)\n",
    "      l = loss(Y_hat, Y, Y_valid_len)\n",
    "      l.sum().backward()  # Make the loss scalar for `backward`\n",
    "      d2l.grad_clipping(net, 1)\n",
    "      num_tokens = Y_valid_len.sum()\n",
    "      optimizer.step()\n",
    "      with torch.no_grad():\n",
    "          metric.add(l.sum(), num_tokens)\n",
    "    if (epoch + 1) % 10 == 0:\n",
    "      animator.add(epoch + 1, (metric[0] / metric[1],))\n",
    "  print(f'loss {metric[0] / metric[1]:.3f}, {metric[1] / timer.stop():.1f} '\n",
    "        f'tokens/sec on {str(device)}')"
   ]
  },
  {
   "cell_type": "markdown",
   "metadata": {
    "execution": {}
   },
   "source": [
    "Now we can create and train an RNN encoder-decoder model\n",
    "for sequence to sequence learning on the machine translation dataset.\n"
   ]
  },
  {
   "cell_type": "code",
   "execution_count": null,
   "metadata": {
    "execution": {}
   },
   "outputs": [],
   "source": [
    "embed_size, num_hiddens, num_layers, dropout = 32, 32, 2, 0.1\n",
    "batch_size, num_steps = 64, 10\n",
    "lr, num_epochs = 0.005, 300\n",
    "\n",
    "train_iter, src_vocab, tgt_vocab = d2l.load_data_nmt(batch_size, num_steps)\n",
    "encoder = Seq2SeqEncoder(len(src_vocab), embed_size, num_hiddens, num_layers,\n",
    "                         dropout)\n",
    "decoder = Seq2SeqDecoder(len(tgt_vocab), embed_size, num_hiddens, num_layers,\n",
    "                         dropout)\n",
    "net = d2l.EncoderDecoder(encoder, decoder)\n",
    "train_seq2seq(net, train_iter, lr, num_epochs, tgt_vocab, DEVICE)"
   ]
  },
  {
   "cell_type": "markdown",
   "metadata": {
    "execution": {}
   },
   "source": [
    "To predict the output sequence token by token, at each decoder time step\n",
    "the predicted token from the previous time step is fed into the decoder as an input.\n",
    "\n",
    "Similar to training, at the initial time step the beginning-of-sequence (&lt;bos&gt;\") token is fed into the decoder. This prediction process is illustrated in `seq2seq` figure. When the end-of-sequence (\"&lt;eos&gt;\") token is predicted, the prediction of the output sequence is complete.\n",
    "\n",
    "\n",
    "<figure>\n",
    "  <img src=\"https://raw.githubusercontent.com/NeuromatchAcademy/course-content-dl/main/tutorials/W2D3_ModernRecurrentNeuralNetworks/static/seq2seq-predict.svg\">\n",
    "  <figcaption>\n",
    "  Source <a href=\"https://d2l.ai/\">d2l.ai</a>\n",
    "  </figcaption>\n",
    "</figure>"
   ]
  },
  {
   "cell_type": "code",
   "execution_count": null,
   "metadata": {
    "cellView": "form",
    "execution": {}
   },
   "outputs": [],
   "source": [
    "# @title Prediction\n",
    "def predict_seq2seq(net, src_sentence, src_vocab, tgt_vocab, num_steps,\n",
    "                    device, save_attention_weights=False):\n",
    "  \"\"\"Predict for sequence to sequence.\"\"\"\n",
    "  # Set `net` to eval mode for inference\n",
    "  net.eval()\n",
    "  src_tokens = src_vocab[src_sentence.lower().split(' ')] + [\n",
    "      src_vocab['<eos>']]\n",
    "  enc_valid_len = torch.tensor([len(src_tokens)], device=device)\n",
    "  src_tokens = d2l.truncate_pad(src_tokens, num_steps, src_vocab['<pad>'])\n",
    "  # Add the batch axis\n",
    "  enc_X = torch.unsqueeze(\n",
    "      torch.tensor(src_tokens, dtype=torch.long, device=device), dim=0)\n",
    "  enc_outputs = net.encoder(enc_X, enc_valid_len)\n",
    "  dec_state = net.decoder.init_state(enc_outputs, enc_valid_len)\n",
    "  # Add the batch axis\n",
    "  dec_X = torch.unsqueeze(\n",
    "      torch.tensor([tgt_vocab['<bos>']], dtype=torch.long, device=device),\n",
    "      dim=0)\n",
    "  output_seq, attention_weight_seq = [], []\n",
    "  for _ in range(num_steps):\n",
    "    Y, dec_state = net.decoder(dec_X, dec_state)\n",
    "    # We use the token with the highest prediction likelihood as the input\n",
    "    # of the decoder at the next time step\n",
    "    dec_X = Y.argmax(dim=2)\n",
    "    pred = dec_X.squeeze(dim=0).type(torch.int32).item()\n",
    "    # Save attention weights (to be covered later)\n",
    "    if save_attention_weights:\n",
    "        attention_weight_seq.append(net.decoder.attention_weights)\n",
    "    # Once the end-of-sequence token is predicted, the generation of the\n",
    "    # output sequence is complete\n",
    "    if pred == tgt_vocab['<eos>']:\n",
    "        break\n",
    "    output_seq.append(pred)\n",
    "  return ' '.join(tgt_vocab.to_tokens(output_seq)), attention_weight_seq"
   ]
  },
  {
   "cell_type": "markdown",
   "metadata": {
    "execution": {}
   },
   "source": [
    "We can evaluate a predicted sequence by comparing it with the label sequence (the ground-truth). BLEU (Bilingual Evaluation Understudy), though originally proposed for evaluating machine translation results in [Papieni et al., 2002](https://dl.acm.org/doi/10.3115/1073083.1073135), has been extensively used in measuring the quality of output sequences for different applications.\n",
    "\n",
    "In principle, for any $n$-grams in the predicted sequence, BLEU evaluates whether this $n$-grams appears in the label sequence.\n",
    "\n",
    "Denote by $p_n$ the precision of $n$-grams, which is the ratio of the number of matched $n$-grams in the predicted and label sequences to the number of $n$-grams in the predicted sequence.\n",
    "To explain, given a label sequence $A$, $B$, $C$, $D$, $E$, $F$, and a predicted sequence $A$, $B$, $B$, $C$, $D$, we have $p_1 = 4/5$,  $p_2 = 3/4$, $p_3 = 1/3$, and $p_4 = 0$.\n",
    "\n",
    "Besides, let $\\mathrm{len}_{\\text{label}}$ and $\\mathrm{len}_{\\text{pred}}$\n",
    "be the numbers of tokens in the label sequence and the predicted sequence, respectively.\n",
    "\n",
    "Then, BLEU is defined as\n",
    "\n",
    "\\begin{equation}\n",
    "\\exp\\left(\\min\\left(0, 1 - \\frac{\\mathrm{len}_{\\text{label}}}{\\mathrm{len}_{\\text{pred}}}\\right)\\right) \\prod_{n=1}^k p_n^{1/2^n},\n",
    "\\end{equation}\n",
    "\n",
    "where $k$ is the longest $n$-grams for matching.\n",
    "\n",
    "Based on the definition of BLEU in the above equation, whenever the predicted sequence is the same as the label sequence, BLEU is 1.\n",
    "\n",
    "Moreover, since matching longer $n$-grams is more difficult, BLEU assigns a greater weight to a longer $n$-gram precision. Specifically, when $p_n$ is fixed, $p_n^{1/2^n}$ increases as $n$ grows (the original paper uses $p_n^{1/n}$).\n",
    "\n",
    "Furthermore, since predicting shorter sequences tends to obtain a higher $p_n$ value, the coefficient before the multiplication term in the above equation\n",
    "penalizes shorter predicted sequences.\n",
    "\n",
    "For example, when $k=2$, given the label sequence $A$, $B$, $C$, $D$, $E$, $F$ and the predicted sequence $A$, $B$, although $p_1 = p_2 = 1$, the penalty factor $\\exp(1-6/2) \\approx 0.14$ lowers the BLEU.\n",
    "\n",
    "We implement the BLEU measure as follows.\n"
   ]
  },
  {
   "cell_type": "code",
   "execution_count": null,
   "metadata": {
    "cellView": "form",
    "execution": {}
   },
   "outputs": [],
   "source": [
    "#@title Evaluation of Predicted Sequences\n",
    "def bleu(pred_seq, label_seq, k):\n",
    "  \"\"\"Compute the BLEU.\"\"\"\n",
    "  pred_tokens, label_tokens = pred_seq.split(' '), label_seq.split(' ')\n",
    "  len_pred, len_label = len(pred_tokens), len(label_tokens)\n",
    "  score = math.exp(min(0, 1 - len_label / len_pred))\n",
    "  for n in range(1, k + 1):\n",
    "    num_matches, label_subs = 0, collections.defaultdict(int)\n",
    "    for i in range(len_label - n + 1):\n",
    "      label_subs[''.join(label_tokens[i:i + n])] += 1\n",
    "    for i in range(len_pred - n + 1):\n",
    "      if label_subs[''.join(pred_tokens[i:i + n])] > 0:\n",
    "        num_matches += 1\n",
    "        label_subs[''.join(pred_tokens[i:i + n])] -= 1\n",
    "    score *= math.pow(num_matches / (len_pred - n + 1), math.pow(0.5, n))\n",
    "  return score"
   ]
  },
  {
   "cell_type": "markdown",
   "metadata": {
    "execution": {}
   },
   "source": [
    "In the end,\n",
    "we use the trained RNN encoder-decoder\n",
    "to translate a few English sentences into French\n",
    "and compute the BLEU of the results.\n"
   ]
  },
  {
   "cell_type": "code",
   "execution_count": null,
   "metadata": {
    "execution": {}
   },
   "outputs": [],
   "source": [
    "engs = ['go .', \"i lost .\", 'he\\'s calm .', 'i\\'m home .']\n",
    "# fras = ['va !', 'j\\'ai perdu .', 'il est calme .', 'je suis chez moi .']\n",
    "fras = [ 'je suis chez moi .', 'j\\'ai perdu .','va !', 'il est calme .']\n",
    "for eng, fra in zip(engs, fras):\n",
    "  translation, attention_weight_seq = predict_seq2seq(net,\n",
    "                                                      eng,\n",
    "                                                      src_vocab,\n",
    "                                                      tgt_vocab,\n",
    "                                                      num_steps,\n",
    "                                                      DEVICE)\n",
    "  print(f'{eng} => {translation}, bleu {bleu(translation, fra, k=2):.3f}')"
   ]
  },
  {
   "cell_type": "markdown",
   "metadata": {
    "execution": {}
   },
   "source": [
    "---\n",
    "# Section 4: Ethical aspects\n",
    "\n",
    "*Time estimate: ~7mins*"
   ]
  },
  {
   "cell_type": "code",
   "execution_count": null,
   "metadata": {
    "cellView": "form",
    "execution": {}
   },
   "outputs": [],
   "source": [
    "# @title Video 5: Ethics of Representation and Generation\n",
    "from ipywidgets import widgets\n",
    "\n",
    "out2 = widgets.Output()\n",
    "with out2:\n",
    "  from IPython.display import IFrame\n",
    "  class BiliVideo(IFrame):\n",
    "    def __init__(self, id, page=1, width=400, height=300, **kwargs):\n",
    "      self.id=id\n",
    "      src = \"https://player.bilibili.com/player.html?bvid={0}&page={1}\".format(id, page)\n",
    "      super(BiliVideo, self).__init__(src, width, height, **kwargs)\n",
    "\n",
    "  video = BiliVideo(id=f\"BV1v54y1J7SC\", width=854, height=480, fs=1)\n",
    "  print(\"Video available at https://www.bilibili.com/video/{0}\".format(video.id))\n",
    "  display(video)\n",
    "\n",
    "out1 = widgets.Output()\n",
    "with out1:\n",
    "  from IPython.display import YouTubeVideo\n",
    "  video = YouTubeVideo(id=f\"2ULMWtaGQrQ\", width=854, height=480, fs=1, rel=0)\n",
    "  print(\"Video available at https://youtube.com/watch?v=\" + video.id)\n",
    "  display(video)\n",
    "\n",
    "out = widgets.Tab([out1, out2])\n",
    "out.set_title(0, 'Youtube')\n",
    "out.set_title(1, 'Bilibili')\n",
    "\n",
    "# add event to airtable\n",
    "atform.add_event('Video 5: Ethics of Representation and Generation')\n",
    "\n",
    "display(out)"
   ]
  },
  {
   "cell_type": "markdown",
   "metadata": {
    "execution": {}
   },
   "source": [
    "---\n",
    "# Summary\n",
    "\n",
    "During this day, we have learned about modern RNNs and their variants. Now let's see some ethical aspects of representation and Generation, and then we will close the tutorials with an overview."
   ]
  },
  {
   "cell_type": "code",
   "execution_count": null,
   "metadata": {
    "cellView": "form",
    "execution": {}
   },
   "outputs": [],
   "source": [
    "# @title Video 6: Beyond Sequence\n",
    "from ipywidgets import widgets\n",
    "\n",
    "out2 = widgets.Output()\n",
    "with out2:\n",
    "  from IPython.display import IFrame\n",
    "  class BiliVideo(IFrame):\n",
    "    def __init__(self, id, page=1, width=400, height=300, **kwargs):\n",
    "      self.id=id\n",
    "      src = \"https://player.bilibili.com/player.html?bvid={0}&page={1}\".format(id, page)\n",
    "      super(BiliVideo, self).__init__(src, width, height, **kwargs)\n",
    "\n",
    "  video = BiliVideo(id=f\"BV1864y1x7Ek\", width=854, height=480, fs=1)\n",
    "  print(\"Video available at https://www.bilibili.com/video/{0}\".format(video.id))\n",
    "  display(video)\n",
    "\n",
    "out1 = widgets.Output()\n",
    "with out1:\n",
    "  from IPython.display import YouTubeVideo\n",
    "  video = YouTubeVideo(id=f\"lVcpMSJileA\", width=854, height=480, fs=1, rel=0)\n",
    "  print(\"Video available at https://youtube.com/watch?v=\" + video.id)\n",
    "  display(video)\n",
    "\n",
    "out = widgets.Tab([out1, out2])\n",
    "out.set_title(0, 'Youtube')\n",
    "out.set_title(1, 'Bilibili')\n",
    "\n",
    "# add event to airtable\n",
    "atform.add_event('Video 6: Beyond Sequence')\n",
    "\n",
    "display(out)"
   ]
  },
  {
   "cell_type": "code",
   "execution_count": 21,
   "metadata": {
    "cellView": "form",
    "tags": []
   },
   "outputs": [
    {
     "data": {
      "text/html": [
       "\n",
       " <div>\n",
       "   <a href= \"https://portal.neuromatchacademy.org/api/redirect/to/3412a777-eb0e-4312-9254-eec266f0bee4?data=eyJmb3JtX2lkIjogImFwcG43VmRQUnNlU29NWEVHIiwgInRhYmxlX25hbWUiOiAiVzJEM19UMiIsICJhbnN3ZXJzIjoge30sICJldmVudHMiOiBbeyJldmVudCI6ICJpbml0IiwgInRzIjogMTYyODcxNjAzNy41OTc3NTY5fSwgeyJldmVudCI6ICJWaWRlbyAxOiBSZWN1cnJlbnQgTmV1cmFsIE5ldHdvcmtzIiwgInRzIjogMTYyODcxNjAzOS4xMDYwMjI0fSwgeyJldmVudCI6ICJDb2RpbmcgRXhlcmNpc2UgMS4xOiBWYW5pbGxhIFJOTiIsICJ0cyI6IDE2Mjg3MTY3MzQuNzI0NjExfSwgeyJldmVudCI6ICJDb2RpbmcgRXhlcmNpc2UgMS4xOiBWYW5pbGxhIFJOTiIsICJ0cyI6IDE2Mjg3MTY3NTYuMTA5NzI0fSwgeyJldmVudCI6ICJDb2RpbmcgRXhlcmNpc2UgMS4xOiBWYW5pbGxhIFJOTiIsICJ0cyI6IDE2Mjg3MTY4MTIuMDIyNjY1N30sIHsiZXZlbnQiOiAiVmlkZW8gMjogQmlkaXJlY3Rpb25hbCBSTk5zIiwgInRzIjogMTYyODcxNzk3OC4xMDIwNzc1fSwgeyJldmVudCI6ICJWaWRlbyAzOiBMU1RNLCBHUlUgJiBUaGUgTWVtb3J5IENlbGxzIiwgInRzIjogMTYyODcxODI5OC40NDU2Mzg3fSwgeyJldmVudCI6ICJ1cmwgZ2VuZXJhdGVkIiwgInRzIjogMTYyODcxOTc2OS40NTQ5NTYzfV19\" target=\"_blank\">\n",
       "   <img src=\"https://github.com/NeuromatchAcademy/course-content-dl/blob/main/tutorials/static/SurveyButton.png?raw=1\"\n",
       " alt=\"button link end of day Survey\" style=\"width:410px\"></a>\n",
       "   </div>"
      ],
      "text/plain": [
       "<IPython.core.display.HTML object>"
      ]
     },
     "execution_count": 21,
     "metadata": {},
     "output_type": "execute_result"
    }
   ],
   "source": [
    "# @title Airtable Submission Link\n",
    "from IPython import display as IPydisplay\n",
    "IPydisplay.HTML(\n",
    "   f\"\"\"\n",
    " <div>\n",
    "   <a href= \"{atform.url()}\" target=\"_blank\">\n",
    "   <img src=\"https://github.com/NeuromatchAcademy/course-content-dl/blob/main/tutorials/static/SurveyButton.png?raw=1\"\n",
    " alt=\"button link end of day Survey\" style=\"width:410px\"></a>\n",
    "   </div>\"\"\" )"
   ]
  },
  {
   "cell_type": "markdown",
   "metadata": {
    "execution": {}
   },
   "source": [
    "---\n",
    "# Bonus: Attention"
   ]
  },
  {
   "cell_type": "code",
   "execution_count": null,
   "metadata": {
    "cellView": "form",
    "execution": {}
   },
   "outputs": [],
   "source": [
    "# @title Video 7: Attention mechanisms\n",
    "from ipywidgets import widgets\n",
    "\n",
    "out2 = widgets.Output()\n",
    "with out2:\n",
    "  from IPython.display import IFrame\n",
    "  class BiliVideo(IFrame):\n",
    "    def __init__(self, id, page=1, width=400, height=300, **kwargs):\n",
    "      self.id=id\n",
    "      src = \"https://player.bilibili.com/player.html?bvid={0}&page={1}\".format(id, page)\n",
    "      super(BiliVideo, self).__init__(src, width, height, **kwargs)\n",
    "\n",
    "  video = BiliVideo(id=f\"BV1Mo4y1S7oK\", width=854, height=480, fs=1)\n",
    "  print(\"Video available at https://www.bilibili.com/video/{0}\".format(video.id))\n",
    "  display(video)\n",
    "\n",
    "out1 = widgets.Output()\n",
    "with out1:\n",
    "  from IPython.display import YouTubeVideo\n",
    "  video = YouTubeVideo(id=f\"Vt9GhJKcEiM\", width=854, height=480, fs=1, rel=0)\n",
    "  print(\"Video available at https://youtube.com/watch?v=\" + video.id)\n",
    "  display(video)\n",
    "\n",
    "out = widgets.Tab([out1, out2])\n",
    "out.set_title(0, 'Youtube')\n",
    "out.set_title(1, 'Bilibili')\n",
    "\n",
    "# add event to airtable\n",
    "atform.add_event('Video 7: Attention mechanisms')\n",
    "\n",
    "display(out)"
   ]
  },
  {
   "cell_type": "markdown",
   "metadata": {
    "execution": {}
   },
   "source": [
    "Previously, we designed an encoder-decoder architecture based on two RNNs for sequence to sequence learning. Specifically, the RNN encoder transforms a variable-length sequence into a fixed-shape context variable, then the RNN decoder generates the output (target) sequence token by token based on the generated tokens and the context variable. However, even though not all the input (source) tokens are useful for decoding a certain token, the same context variable that encodes the entire input sequence is still used at each decoding step. It is challenging for the models to deal with long sentences. \n",
    "\n",
    "In [Bahdanau et al., 2014](https://arxiv.org/abs/1409.0473), the authors proposed a technique called attention. When predicting a token, if not all the input tokens are relevant, the model aligns (or attends) only to parts of the input sequence that are relevant to the current prediction. \n"
   ]
  },
  {
   "cell_type": "markdown",
   "metadata": {
    "execution": {}
   },
   "source": [
    "In contrast to seq2seq model, the encoder passes a lot more data to the decoder. Instead of passing the last hidden state of the encoding stage, the encoder passes all the hidden states to the decoder. \n",
    "\n",
    "In order to focus on the parts of input relevant to the decoder, look at the set of encoder hidden states it received. Each encoder hidden state is at most associated with a certain word in the input sentence. We can assign each hidden state a score and multiply it with the softmaxed score, thus amplifying hidden states with high scores, and drowning out hidden states with low scores.\n",
    "\n",
    "\n",
    "Reference Links: \\\\\n",
    " https://jalammar.github.io/visualizing-neural-machine-translation-mechanics-of-seq2seq-models-with-attention/ \\\\\n",
    "\n",
    " https://d2l.ai/chapter_attention-mechanisms/attention-cues.html"
   ]
  },
  {
   "cell_type": "code",
   "execution_count": null,
   "metadata": {
    "cellView": "form",
    "execution": {}
   },
   "outputs": [],
   "source": [
    "# @markdown Media 1: Sequence to Sequence model with Attention\n",
    "\n",
    "url = \"https://jalammar.github.io/images/seq2seq_7.mp4\"\n",
    "from IPython.display import HTML\n",
    "HTML(f\"\"\"<video src={url} width=750 controls/>\"\"\")"
   ]
  },
  {
   "cell_type": "code",
   "execution_count": null,
   "metadata": {
    "cellView": "form",
    "execution": {}
   },
   "outputs": [],
   "source": [
    "# @markdown Media 2: Mapping input to output\n",
    "\n",
    "url = \"https://jalammar.github.io/images/seq2seq_9.mp4\"\n",
    "from IPython.display import HTML\n",
    "HTML(f\"\"\"<video src={url} width=750 controls/>\"\"\")"
   ]
  },
  {
   "cell_type": "markdown",
   "metadata": {
    "execution": {}
   },
   "source": [
    "## Queries, Keys, and Values\n",
    "\n",
    "\n",
    "To calculate the attention mechanism we make use of Queries, Keys and Values. But what are Queries, Keys and Values? Query, Value and Key are the transformations of the input vector. \n",
    "\n",
    "In an attention mechanism the context vector is computed as a weighted sum of values, where the weight assigned to each value is computed through an attention score. The score is usually the dot product between the query and key. The scores then go through the softmax function to yield a set of weights whose sum equals 1.\n",
    "\n",
    "The query is from the decoder hidden state whereas the key and value are from the encoder hidden state. \n"
   ]
  },
  {
   "cell_type": "markdown",
   "metadata": {
    "execution": {}
   },
   "source": [
    "Take a minute and look at this [article](https://www.kdnuggets.com/2021/01/attention-mechanism-deep-learning-explained.html). It has detailed graphical explanation on how to calculate attention scores. "
   ]
  },
  {
   "cell_type": "markdown",
   "metadata": {
    "execution": {}
   },
   "source": [
    "### Bonus Coding Exercise: Attention for Text Classification\n",
    "\n",
    "Until now, we looked at attention aimed at seq2seq networks. Let’s try implementing attention for the above IMDB sentiment analysis dataset. Previously, using the LSTM, the classification completely depended on the last hidden state. In this exercise, we will compute the attention scores between the last hidden state and output of each sequence. The final attention vector will be the weighted average of the outputs at each sequence, with the weights being the attention scores. Lastly, we will concatenate the attention vector and the last hidden state to get the final output.\n",
    "\n",
    "For simplicity's sake, let's implement attention over an LSTM with 1 layer.\n",
    "\n",
    "\n",
    "[*Code reference*](https://github.com/prakashpandey9/Text-Classification-Pytorch/blob/master/main.py)\n"
   ]
  },
  {
   "cell_type": "code",
   "execution_count": null,
   "metadata": {
    "execution": {}
   },
   "outputs": [],
   "source": [
    "class AttentionModel(torch.nn.Module):\n",
    "  def __init__(self, batch_size, output_size, hidden_size, vocab_size,\n",
    "               embedding_length, weights, device):\n",
    "    super(AttentionModel, self).__init__()\n",
    "    self.hidden_size = hidden_size\n",
    "    self.word_embeddings = nn.Embedding(vocab_size, embedding_length)\n",
    "    self.word_embeddings.weights = nn.Parameter(weights, requires_grad=False)\n",
    "    self.lstm = nn.LSTM(embedding_length, hidden_size)\n",
    "    self.fc1 = nn.Linear(2*hidden_size, output_size)\n",
    "    self.device = device\n",
    "    self.num_seq = sentence_length\n",
    "\n",
    "  def attention_net(self, lstm_output, final_state):\n",
    "    \"\"\"\n",
    "    lstm_output : shape: (num_seq, batch_size, hidden_size)\n",
    "    final_state : shape: (1, batch_size, hidden_size)\n",
    "    \"\"\"\n",
    "    ####################################################\n",
    "    # Implement the attenion net\n",
    "    # Fill in missing code below (...)\n",
    "    raise NotImplementedError(\"perform the convolution\")\n",
    "    ####################################################\n",
    "    # permute the output to get the shape (batch_size, num_seq, hidden_size)\n",
    "    # Get the attention weights\n",
    "    # use torch.bmm to compute the attention weights between each output and last hidden state\n",
    "    # pay attention to the tensor shapes, you may have to use squeeze and unsqueeze functions\n",
    "    # softmax the attention weights\n",
    "    # Get the new hidden state, use torch.bmm to get the weighted lstm output\n",
    "    # pay attention to the tensor shapes, you may have to use squeeze and unsqueeze functions\n",
    "    lstm_output = ...\n",
    "    hidden = ...\n",
    "    attn_weights = ...  # expected shape: (batch_size, num_seq)\n",
    "    soft_attn_weights = ...\n",
    "    new_hidden_state = ...\n",
    "\n",
    "    return new_hidden_state\n",
    "\n",
    "  def forward(self, input_sentences):\n",
    "\n",
    "    input = self.word_embeddings(input_sentences)\n",
    "    input = input.permute(1, 0, 2)\n",
    "\n",
    "    h_0 = torch.zeros(1, input.shape[1], self.hidden_size).to(self.device)\n",
    "    c_0 = torch.zeros(1, input.shape[1], self.hidden_size).to(self.device)\n",
    "\n",
    "    output, (final_hidden_state, final_cell_state) = self.lstm(input, (h_0, c_0))\n",
    "    attn_output = self.attention_net(output, final_hidden_state)\n",
    "    final_output = torch.cat((attn_output, final_hidden_state[0]), 1)\n",
    "    logits = self.fc1(final_output)\n",
    "\n",
    "    return logits\n",
    "\n",
    "\n",
    "# Uncomment to check AttentionModel class\n",
    "# attention_model = AttentionModel(32, 2, 16, 20, 200, TEXT.vocab.vectors, DEVICE)\n",
    "# print(attention_model)"
   ]
  },
  {
   "cell_type": "code",
   "execution_count": null,
   "metadata": {
    "execution": {}
   },
   "outputs": [],
   "source": [
    "class AttentionModel(torch.nn.Module):\n",
    "  def __init__(self, batch_size, output_size, hidden_size, vocab_size, embedding_length, sentence_length, weights, device):\n",
    "    super(AttentionModel, self).__init__()\n",
    "    self.hidden_size = hidden_size\n",
    "    self.word_embeddings = nn.Embedding(vocab_size, embedding_length)\n",
    "    self.word_embeddings.weights = nn.Parameter(weights, requires_grad=False)\n",
    "    self.lstm = nn.LSTM(embedding_length, hidden_size)\n",
    "    self.fc1 = nn.Linear(2*hidden_size, output_size)\n",
    "    self.device = device\n",
    "    self.num_seq = sentence_length\n",
    "\n",
    "  def attention_net(self, lstm_output, final_state, batch_size=32):\n",
    "    \"\"\" lstm_output : shape: (num_seq, batch_size, hidden_size)\n",
    "    final_state : shape: (1, batch_size, hidden_size) \"\"\"\n",
    "    # permute the output to get the shape (batch_size, num_seq, hidden_size)\n",
    "    # Get the attention weights # use torch.bmm to compute the attention weights between each output and last hidden state\n",
    "    # pay attention to the tensor shapes, you may have to use squeeze and unsqueeze functions # softmax the attention weights\n",
    "    # Get the new hidden state, use torch.bmm to get the weighted lstm output\n",
    "    # pay attention to the tensor shapes, you may have to use squeeze and unsqueeze functions\n",
    "    lstm_output = lstm_output.permute(1, 0, 2)\n",
    "    hidden = final_state.squeeze(0).unsqueeze(2)\n",
    "    attn_weights = torch.matmul(lstm_output, hidden)\n",
    "    attn_weights = torch.reshape(attn_weights, ([batch_size,self.num_seq])) #expected shape: (batch_size, num_seq)\n",
    "    soft_attn_weights = F.softmax(attn_weights, 1)\n",
    "    new_hidden_state = torch.bmm(lstm_output.transpose(1, 2), soft_attn_weights.unsqueeze(2)).squeeze(2)\n",
    "    return new_hidden_state\n",
    "\n",
    "  def forward(self, input_sentences):\n",
    "    input = self.word_embeddings(input_sentences)\n",
    "    input = input.permute(1, 0, 2)\n",
    "    h_0 = torch.zeros(1, input.shape[1], self.hidden_size).to(self.device)\n",
    "    c_0 = torch.zeros(1, input.shape[1], self.hidden_size).to(self.device)\n",
    "    output, (final_hidden_state, final_cell_state) = self.lstm(input, (h_0, c_0))\n",
    "    attn_output = self.attention_net(output, final_hidden_state, input.shape[1])\n",
    "    final_output = torch.cat((attn_output, final_hidden_state[0]), 1)\n",
    "    logits = self.fc1(final_output)\n",
    "    return logits\n",
    "\n",
    "# Uncomment to check AttentionModel class\n",
    "attention_model = AttentionModel(32, 2, 16, 20, 200, 50, TEXT.vocab.vectors, DEVICE)\n",
    "print(attention_model)"
   ]
  },
  {
   "cell_type": "markdown",
   "metadata": {
    "execution": {}
   },
   "source": [
    "```\n",
    "AttentionModel(\n",
    "  (word_embeddings): Embedding(20, 200)\n",
    "  (lstm): LSTM(200, 16)\n",
    "  (fc1): Linear(in_features=32, out_features=2, bias=True)\n",
    ")\n",
    "```"
   ]
  },
  {
   "cell_type": "code",
   "execution_count": null,
   "metadata": {
    "cellView": "form",
    "execution": {}
   },
   "outputs": [],
   "source": [
    "# @markdown Reload dataset using the default params since variables have been overwritten\n",
    "TEXT, vocab_size, train_iter, valid_iter, test_iter = load_dataset(seed=SEED)"
   ]
  },
  {
   "cell_type": "code",
   "execution_count": null,
   "metadata": {
    "execution": {}
   },
   "outputs": [],
   "source": [
    "learning_rate = 0.0001\n",
    "batch_size = 32  # initially was 16\n",
    "output_size = 2\n",
    "hidden_size = 16\n",
    "embedding_length = 300\n",
    "epochs = 6  # initially was 12\n",
    "sentence_length = 50\n",
    "\n",
    "word_embeddings = TEXT.vocab.vectors\n",
    "vocab_size = len(TEXT.vocab)\n",
    "\n",
    "attention_model = AttentionModel(batch_size,\n",
    "                                 output_size,\n",
    "                                 hidden_size,\n",
    "                                 vocab_size,\n",
    "                                 embedding_length, sentence_length,\n",
    "                                 word_embeddings,\n",
    "                                 DEVICE)\n",
    "attention_model.to(DEVICE)\n",
    "attention_start_time = time.time()\n",
    "set_seed(SEED)\n",
    "attention_train_loss, attention_train_acc, attention_validation_loss, attention_validation_acc = train(attention_model,\n",
    "                                                                                                       DEVICE,\n",
    "                                                                                                       train_iter,\n",
    "                                                                                                       valid_iter,\n",
    "                                                                                                       epochs,\n",
    "                                                                                                       learning_rate)\n",
    "print(\"--- Time taken to train = %s seconds ---\" % (time.time() - attention_start_time))\n",
    "test_accuracy = test(attention_model, DEVICE, test_iter)\n",
    "print(f'\\n\\nTest Accuracy: {test_accuracy}%')"
   ]
  },
  {
   "cell_type": "code",
   "execution_count": null,
   "metadata": {
    "execution": {}
   },
   "outputs": [],
   "source": [
    "plt.figure()\n",
    "plt.subplot(211)\n",
    "plot_train_val(np.arange(0, epochs),\n",
    "               attention_train_acc,\n",
    "               attention_validation_acc,\n",
    "               'trai accuracy',\n",
    "               'val accuracy',\n",
    "               'attention on IMDB text classification',\n",
    "               'loss',\n",
    "               color='C0')\n",
    "plt.legend(loc='upper left')\n",
    "plt.subplot(212)\n",
    "plot_train_val(np.arange(0, epochs),\n",
    "               attention_train_loss,\n",
    "               attention_validation_loss,\n",
    "               'train loss',\n",
    "               'val loss',\n",
    "               '',\n",
    "               'loss',\n",
    "               color='C1')\n",
    "plt.tight_layout()\n",
    "plt.legend(loc='upper left')"
   ]
  }
 ],
 "metadata": {
  "accelerator": "GPU",
  "colab": {
   "collapsed_sections": [],
   "include_colab_link": true,
   "name": "W2D3_Tutorial2",
   "provenance": [],
   "toc_visible": true
  },
  "kernel": {
   "display_name": "Python 3",
   "language": "python",
   "name": "python3"
  },
  "kernelspec": {
   "display_name": "Pytorch (Buzznauts)",
   "language": "python",
   "name": "buzznauts"
  },
  "language_info": {
   "codemirror_mode": {
    "name": "ipython",
    "version": 3
   },
   "file_extension": ".py",
   "mimetype": "text/x-python",
   "name": "python",
   "nbconvert_exporter": "python",
   "pygments_lexer": "ipython3",
   "version": "3.7.11"
  }
 },
 "nbformat": 4,
 "nbformat_minor": 4
}
